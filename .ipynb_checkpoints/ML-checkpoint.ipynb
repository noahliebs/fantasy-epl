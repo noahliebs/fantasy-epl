{
 "cells": [
  {
   "cell_type": "code",
   "execution_count": 3,
   "metadata": {
    "collapsed": false
   },
   "outputs": [],
   "source": [
    "import json\n",
    "import numpy as np\n",
    "import pandas as pd"
   ]
  },
  {
   "cell_type": "code",
   "execution_count": 54,
   "metadata": {
    "collapsed": false
   },
   "outputs": [],
   "source": [
    "with open(\"Data/Sorted_Positions/sorted_midfield_2016+17.json\", \"r\") as infile:\n",
    "            data = json.load(infile)"
   ]
  },
  {
   "cell_type": "code",
   "execution_count": 57,
   "metadata": {
    "collapsed": false
   },
   "outputs": [
    {
     "name": "stdout",
     "output_type": "stream",
     "text": [
      "[['36' '245.0' '-1' '-1' '8' 'Christian Eriksen' '-1' '20' '45.0' '-1' '-1'\n",
      "  '1977.0' '24' '3159' '27.0' '112.0' '-1' '89' '16' '21.0' '85' '779.5'\n",
      "  '-1' '50.0' '-1']]\n",
      "[['38' '304.0' '-1' '-1' '9' 'Gylfi Sigurdsson' '-1' '13' '50.0' '-1' '-1'\n",
      "  '1038.0' '70' '3327' '32.0' '80.0' '-1' '74' '7' '7.0' '75' '739.0' '2'\n",
      "  '41.0' '-1']]\n",
      "[['38' '-1' '-1' '-1' '24' 'Alexis Sánchez' '-1' '11' '49.0' '-1' '-1'\n",
      "  '1643.0' '41' '3217' '109.0' '78.0' '-1' '117' '13' '14.0' '110' '583.0'\n",
      "  '6' '128.0' '-1']]\n",
      "[['33' '187.0' '-1' '-1' '8' 'Mesut Özil' '-1' '11' '18.0' '-1' '-1'\n",
      "  '2110.0' '30' '2841' '32.0' '100.0' '-1' '95' '12' '7.0' '95' '582.5' '2'\n",
      "  '40.0' '-1']]\n",
      "[['36' '259.0' '-1' '-1' '7' 'James Milner' '100.0' '4' '17.0' '-1' '-1'\n",
      "  '2168.0' '35' '3154' '31.0' '56.0' '44.0' '63' '12' '56.0' '65' '581.5'\n",
      "  '5' '21.0' '-1']]\n",
      "[['36' '-1' '-1' '-1' '16' 'Eden Hazard' '-1' '9' '33.0' '-1' '-1' '1750.0'\n",
      "  '29' '2985' '143.0' '88.0' '-1' '105' '17' '20.0' '100' '570.5' '3'\n",
      "  '61.0' '-1']]\n",
      "[['31' '126.0' '-1' '-1' '13' 'Philippe Coutinho' '-1' '8' '38.0' '-1' '-1'\n",
      "  '1402.0' '27' '2228' '70.0' '65.0' '-1' '87' '8' '6.0' '80' '543.5' '2'\n",
      "  '57.0' '-1']]\n",
      "[['36' '236.0' '-1' '-1' '3' 'Andros Townsend' '-1' '7' '13.0' '-1' '-1'\n",
      "  '685.0' '38' '2520' '67.0' '51.0' '43.0' '57' '7' '3.0' '65' '500.5' '4'\n",
      "  '78.0' '-1']]\n",
      "[['36' '113.0' '-1' '-1' '5' 'Ross Barkley' '-1' '11' '30.0' '-1' '-1'\n",
      "  '1651.0' '36' '2900' '62.0' '84.0' '-1' '70' '12' '42.0' '75' '483.5' '5'\n",
      "  '97.0' '-1']]\n",
      "[['275.0' '-1' '-1' '6' 'Kevin De Bruyne' '-1' '21' '21.0' '-1' '-1' '4'\n",
      "  '34' '2877' '-1' '-1' '-1' '105' '11' '-1' '105' '471.5' '1801.0' '49.0'\n",
      "  '-1']]\n"
     ]
    },
    {
     "ename": "ValueError",
     "evalue": "all the input array dimensions except for the concatenation axis must match exactly",
     "output_type": "error",
     "traceback": [
      "\u001b[1;31m---------------------------------------------------------------------------\u001b[0m",
      "\u001b[1;31mValueError\u001b[0m                                Traceback (most recent call last)",
      "\u001b[1;32m<ipython-input-57-ea6039930a02>\u001b[0m in \u001b[0;36m<module>\u001b[1;34m()\u001b[0m\n\u001b[0;32m      4\u001b[0m     \u001b[0mb\u001b[0m \u001b[1;33m=\u001b[0m \u001b[0mnp\u001b[0m\u001b[1;33m.\u001b[0m\u001b[0marray\u001b[0m\u001b[1;33m(\u001b[0m\u001b[1;33m[\u001b[0m\u001b[0mlist\u001b[0m\u001b[1;33m(\u001b[0m\u001b[0mdata\u001b[0m\u001b[1;33m[\u001b[0m\u001b[0mi\u001b[0m\u001b[1;33m]\u001b[0m\u001b[1;33m.\u001b[0m\u001b[0mvalues\u001b[0m\u001b[1;33m(\u001b[0m\u001b[1;33m)\u001b[0m\u001b[1;33m)\u001b[0m\u001b[1;33m]\u001b[0m\u001b[1;33m)\u001b[0m\u001b[1;33m\u001b[0m\u001b[0m\n\u001b[0;32m      5\u001b[0m     \u001b[0mprint\u001b[0m\u001b[1;33m(\u001b[0m\u001b[0mb\u001b[0m\u001b[1;33m)\u001b[0m\u001b[1;33m\u001b[0m\u001b[0m\n\u001b[1;32m----> 6\u001b[1;33m     \u001b[0mnp\u001b[0m\u001b[1;33m.\u001b[0m\u001b[0mvstack\u001b[0m\u001b[1;33m(\u001b[0m\u001b[1;33m(\u001b[0m\u001b[0ma\u001b[0m\u001b[1;33m,\u001b[0m \u001b[0mb\u001b[0m\u001b[1;33m)\u001b[0m\u001b[1;33m)\u001b[0m\u001b[1;33m\u001b[0m\u001b[0m\n\u001b[0m\u001b[0;32m      7\u001b[0m \u001b[0mprint\u001b[0m\u001b[1;33m(\u001b[0m\u001b[0ma\u001b[0m\u001b[1;33m)\u001b[0m\u001b[1;33m\u001b[0m\u001b[0m\n\u001b[0;32m      8\u001b[0m \u001b[1;33m\u001b[0m\u001b[0m\n",
      "\u001b[1;32mC:\\Users\\Noah\\Anaconda3\\lib\\site-packages\\numpy\\core\\shape_base.py\u001b[0m in \u001b[0;36mvstack\u001b[1;34m(tup)\u001b[0m\n\u001b[0;32m    228\u001b[0m \u001b[1;33m\u001b[0m\u001b[0m\n\u001b[0;32m    229\u001b[0m     \"\"\"\n\u001b[1;32m--> 230\u001b[1;33m     \u001b[1;32mreturn\u001b[0m \u001b[0m_nx\u001b[0m\u001b[1;33m.\u001b[0m\u001b[0mconcatenate\u001b[0m\u001b[1;33m(\u001b[0m\u001b[1;33m[\u001b[0m\u001b[0matleast_2d\u001b[0m\u001b[1;33m(\u001b[0m\u001b[0m_m\u001b[0m\u001b[1;33m)\u001b[0m \u001b[1;32mfor\u001b[0m \u001b[0m_m\u001b[0m \u001b[1;32min\u001b[0m \u001b[0mtup\u001b[0m\u001b[1;33m]\u001b[0m\u001b[1;33m,\u001b[0m \u001b[1;36m0\u001b[0m\u001b[1;33m)\u001b[0m\u001b[1;33m\u001b[0m\u001b[0m\n\u001b[0m\u001b[0;32m    231\u001b[0m \u001b[1;33m\u001b[0m\u001b[0m\n\u001b[0;32m    232\u001b[0m \u001b[1;32mdef\u001b[0m \u001b[0mhstack\u001b[0m\u001b[1;33m(\u001b[0m\u001b[0mtup\u001b[0m\u001b[1;33m)\u001b[0m\u001b[1;33m:\u001b[0m\u001b[1;33m\u001b[0m\u001b[0m\n",
      "\u001b[1;31mValueError\u001b[0m: all the input array dimensions except for the concatenation axis must match exactly"
     ]
    }
   ],
   "source": [
    "a = np.array([list(data[0].values())])\n",
    "print(a)\n",
    "for i in range(1,len(data)):\n",
    "    b = np.array([list(data[i].values())])\n",
    "    print(b)\n",
    "    np.vstack((a, b))\n",
    "print(a)\n",
    "\n"
   ]
  },
  {
   "cell_type": "code",
   "execution_count": null,
   "metadata": {
    "collapsed": true
   },
   "outputs": [],
   "source": []
  }
 ],
 "metadata": {
  "kernelspec": {
   "display_name": "Python 3",
   "language": "python",
   "name": "python3"
  },
  "language_info": {
   "codemirror_mode": {
    "name": "ipython",
    "version": 3
   },
   "file_extension": ".py",
   "mimetype": "text/x-python",
   "name": "python",
   "nbconvert_exporter": "python",
   "pygments_lexer": "ipython3",
   "version": "3.5.1"
  }
 },
 "nbformat": 4,
 "nbformat_minor": 0
}
