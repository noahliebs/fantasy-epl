{
 "cells": [
  {
   "cell_type": "markdown",
   "metadata": {},
   "source": [
    "# ML on Forwards"
   ]
  },
  {
   "cell_type": "code",
   "execution_count": 37,
   "metadata": {
    "collapsed": true
   },
   "outputs": [],
   "source": [
    "relevant_forward_keys = ['togga_score', 'apps', 'tackle_total', 'yellow_cards', 'dispossessed_total', 'red_cards', \n",
    "                         'minutes', 'successful_dribbles', 'own_goals', 'interception_total', \n",
    "                         'goals_scored', 'key_passes', 'accurateCrosses_total', 'aerialWon_total', 'assists', \n",
    "                         'points_above_replacement', 'name', 'age', 'ontarget_scoring_att', 'next_year']\n",
    "\n",
    "relevant_midfield_keys = ['togga_score', 'apps', 'tackle_total', 'yellow_cards', 'dispossessed_total', 'red_cards', \n",
    "                          'minutes', 'successful_dribbles', 'own_goals', 'interception_total', 'ontarget_scoring_att',\n",
    "                          'goals_scored', 'key_passes', 'accurateCrosses_total', 'clean_sheets', 'aerialWon_total', \n",
    "                          'assists', 'points_above_replacement', 'name', 'age', 'next_year']\n",
    "\n",
    "relevant_defense_keys = ['goals_conceded', 'togga_score', 'apps', 'tackle_total', 'yellow_cards', 'dispossessed_total',\n",
    "                         'red_cards', 'minutes', 'successful_dribbles', 'own_goals', 'name', 'ontarget_scoring_att',\n",
    "                         'interception_total', 'goals_scored', 'key_passes', 'accurateCrosses_total', 'clean_sheets', \n",
    "                         'aerialWon_total', 'assists', 'points_above_replacement', 'clearance_total', 'age', 'next_year']\n",
    "\n",
    "relevant_goalie_keys = ['goals_conceded', 'saves', 'togga_score', 'apps', 'tackle_total', 'yellow_cards', 'red_cards', \n",
    "                        'minutes', 'own_goals', 'interception_total', 'key_passes', 'clean_sheets', 'aerialWon_total', \n",
    "                        'penalties_saved', 'points_above_replacement', 'name', 'clearance_total', 'age', 'next_year']"
   ]
  },
  {
   "cell_type": "code",
   "execution_count": 38,
   "metadata": {
    "collapsed": true
   },
   "outputs": [],
   "source": [
    "import json\n",
    "import pandas as pd\n",
    "import numpy as np\n",
    "from sklearn.tree import DecisionTreeRegressor\n",
    "from sklearn.linear_model import LinearRegression\n",
    "from sklearn.cross_validation import train_test_split\n",
    "from sklearn.metrics import mean_squared_error\n",
    "from math import sqrt"
   ]
  },
  {
   "cell_type": "code",
   "execution_count": 39,
   "metadata": {
    "collapsed": false
   },
   "outputs": [],
   "source": [
    "with open(\"Data/positional.json\", \"r\") as infile:\n",
    "    data = json.load(infile)\n",
    "\n",
    "#We will do analysis on Forwards\n",
    "position = '4'\n",
    "players = []\n",
    "for player in data[position]:\n",
    "    players.append(pd.DataFrame([player['history']['2015/16']]))\n",
    "    players.append(pd.DataFrame([player['history']['2014/15']]))\n",
    "    players.append(pd.DataFrame([player['history']['2013/14']]))\n",
    "    players.append(pd.DataFrame([player['history']['2012/13']]))\n",
    "\n",
    "players = pd.concat(players)\n",
    "filter = players['togga_score'] > 0\n",
    "players = players[filter]\n",
    "keys = relevant_forward_keys.copy()\n",
    "keys.remove('points_above_replacement')\n",
    "players = players[keys]\n",
    "players = players.dropna(axis=1,how='all')\n",
    "players = players.dropna(axis=0,how='any')\n",
    "\n",
    "players = players.set_index(\"name\")\n",
    "players.index.name = None\n",
    "keys.remove('name')\n",
    "    "
   ]
  },
  {
   "cell_type": "code",
   "execution_count": 40,
   "metadata": {
    "collapsed": false
   },
   "outputs": [],
   "source": [
    "import matplotlib.pyplot as plt\n",
    "# box and whisker plots of some of the stats\n",
    "plot_keys = ['togga_score', 'goals_scored', 'assists', 'ontarget_scoring_att', 'aerialWon_total', 'minutes', \n",
    "             'successful_dribbles', 'age', 'next_year']\n",
    "players[plot_keys].plot(kind='box', subplots=True, layout=(3,3), sharex=False, sharey=False)\n",
    "plt.show()"
   ]
  },
  {
   "cell_type": "code",
   "execution_count": 41,
   "metadata": {
    "collapsed": false
   },
   "outputs": [],
   "source": [
    "# histograms\n",
    "players[plot_keys].hist()\n",
    "plt.show()"
   ]
  },
  {
   "cell_type": "markdown",
   "metadata": {},
   "source": [
    "## Linear Regressor"
   ]
  },
  {
   "cell_type": "code",
   "execution_count": 42,
   "metadata": {
    "collapsed": false
   },
   "outputs": [
    {
     "name": "stdout",
     "output_type": "stream",
     "text": [
      "148.08239837064224\n"
     ]
    }
   ],
   "source": [
    "x_keys = keys.copy()\n",
    "x_keys.remove('next_year')\n",
    "X = players[x_keys]\n",
    "Y = players['next_year']\n",
    "\n",
    "X_train, X_test, Y_train, Y_test = train_test_split(X, Y, test_size=0.20, random_state=324)\n",
    "regressor = LinearRegression()\n",
    "regressor.fit(X_train, Y_train)\n",
    "Y_prediction = regressor.predict(X_test)\n",
    "#X_test, y_prediction\n",
    "\n",
    "RMSE = sqrt(mean_squared_error(y_true = Y_test, y_pred = Y_prediction))\n",
    "print(RMSE)"
   ]
  },
  {
   "cell_type": "markdown",
   "metadata": {},
   "source": [
    "## Decision Tree Regressor"
   ]
  },
  {
   "cell_type": "code",
   "execution_count": 43,
   "metadata": {
    "collapsed": false
   },
   "outputs": [
    {
     "name": "stdout",
     "output_type": "stream",
     "text": [
      "172.75031418967544\n"
     ]
    }
   ],
   "source": [
    "regressor = DecisionTreeRegressor(max_depth=20)\n",
    "regressor.fit(X_train, Y_train)\n",
    "y_prediction = regressor.predict(X_test)\n",
    "#y_prediction\n",
    "#X_train.head()\n",
    "\n",
    "RMSE = sqrt(mean_squared_error(y_true = Y_test, y_pred = y_prediction))\n",
    "print(RMSE)"
   ]
  },
  {
   "cell_type": "markdown",
   "metadata": {},
   "source": [
    "## Classification ML"
   ]
  },
  {
   "cell_type": "code",
   "execution_count": 44,
   "metadata": {
    "collapsed": true
   },
   "outputs": [],
   "source": [
    "from pandas.tools.plotting import scatter_matrix\n",
    "from sklearn import cross_validation\n",
    "from sklearn.metrics import classification_report\n",
    "from sklearn.metrics import confusion_matrix\n",
    "from sklearn.metrics import accuracy_score\n",
    "from sklearn.linear_model import LogisticRegression\n",
    "from sklearn.tree import DecisionTreeClassifier\n",
    "from sklearn.neighbors import KNeighborsClassifier\n",
    "from sklearn.discriminant_analysis import LinearDiscriminantAnalysis\n",
    "from sklearn.naive_bayes import GaussianNB\n",
    "from sklearn.svm import SVC"
   ]
  },
  {
   "cell_type": "code",
   "execution_count": 45,
   "metadata": {
    "collapsed": false
   },
   "outputs": [
    {
     "name": "stdout",
     "output_type": "stream",
     "text": [
      "LR: 0.557143 (0.129187)\n",
      "LDA: 0.590476 (0.078824)\n",
      "KNN: 0.540476 (0.163247)\n",
      "CART: 0.585714 (0.273592)\n"
     ]
    },
    {
     "name": "stderr",
     "output_type": "stream",
     "text": [
      "C:\\Users\\Noah\\Anaconda3\\lib\\site-packages\\sklearn\\discriminant_analysis.py:387: UserWarning: Variables are collinear.\n",
      "  warnings.warn(\"Variables are collinear.\")\n"
     ]
    },
    {
     "name": "stdout",
     "output_type": "stream",
     "text": [
      "NB: 0.619048 (0.200623)\n",
      "SVM: 0.590476 (0.168628)\n"
     ]
    }
   ],
   "source": [
    "players[\"category\"] = players[\"togga_score\"]\n",
    "for index, row in players.iterrows():\n",
    "    if row['next_year'] > 0:\n",
    "        ratio = row['togga_score'] / abs(row['next_year'])\n",
    "        if  ratio < 0.8:\n",
    "            val = -1\n",
    "        elif ratio < 1.2:\n",
    "            val = 0\n",
    "        else:\n",
    "            val = 1\n",
    "        #print(ratio,val)\n",
    "    else:\n",
    "        #row[x_keys] = 0\n",
    "        #forwards.drop(index, inplace=True)\n",
    "        val = -10\n",
    "    players.set_value(index,'category',val)\n",
    "\n",
    "    \n",
    "x_keys = keys.copy()\n",
    "x_keys.remove('next_year')\n",
    "x_keys.append(\"category\")\n",
    "filter = players['next_year'] > 0\n",
    "players = players[filter]\n",
    "array = players[x_keys].values\n",
    "X = array[:,:-1]\n",
    "Y = array[:,-1].astype(int)\n",
    "validation_size = 0.20\n",
    "seed = 7\n",
    "X_train, X_validation, Y_train, Y_validation = cross_validation.train_test_split(X, Y, test_size=validation_size, random_state=seed)\n",
    "\n",
    "seed = 7\n",
    "scoring = 'accuracy'\n",
    "\n",
    "models = []\n",
    "models.append(('LR', LogisticRegression()))\n",
    "models.append(('LDA', LinearDiscriminantAnalysis()))\n",
    "models.append(('KNN', KNeighborsClassifier()))\n",
    "models.append(('CART', DecisionTreeClassifier()))\n",
    "models.append(('NB', GaussianNB()))\n",
    "models.append(('SVM', SVC()))\n",
    "\n",
    "# evaluate each model in turn\n",
    "results = []\n",
    "names = []\n",
    "for name, model in models:\n",
    "    kfold = cross_validation.KFold(len(X_train), n_folds=10, random_state=seed)\n",
    "    cv_results = cross_validation.cross_val_score(model, X_train, Y_train, cv=kfold, scoring=scoring)\n",
    "    results.append(cv_results)\n",
    "    names.append(name)\n",
    "    msg = \"%s: %f (%f)\" % (name, cv_results.mean(), cv_results.std())\n",
    "    print(msg)"
   ]
  },
  {
   "cell_type": "code",
   "execution_count": 46,
   "metadata": {
    "collapsed": true
   },
   "outputs": [],
   "source": [
    "# Compare Algorithms\n",
    "fig = plt.figure()\n",
    "fig.suptitle('Algorithm Comparison')\n",
    "ax = fig.add_subplot(111)\n",
    "plt.boxplot(results)\n",
    "ax.set_xticklabels(names)\n",
    "plt.show()"
   ]
  },
  {
   "cell_type": "markdown",
   "metadata": {},
   "source": [
    "# Predictions"
   ]
  },
  {
   "cell_type": "code",
   "execution_count": 57,
   "metadata": {
    "collapsed": false
   },
   "outputs": [],
   "source": [
    "new_data = []\n",
    "for player in data[position]:\n",
    "    new_data.append(pd.DataFrame([player['history']['2016/17']]))\n",
    "\n",
    "new_data = pd.concat(new_data)\n",
    "filter = new_data['togga_score'] > 0\n",
    "new_data = new_data[filter]\n",
    "new_data = new_data.dropna(axis=1,how='all')\n",
    "\n",
    "All_predictions = []\n",
    "All_predictions.append(new_data['name'].values.astype('str'))\n",
    "new_data = new_data.set_index(\"name\")\n",
    "new_data.index.name = None\n",
    "new_keys = keys.copy()\n",
    "new_keys.remove('next_year')\n",
    "new_data = new_data[new_keys]\n",
    "new_data = new_data.dropna(axis=0,how='any')\n",
    "new_X = new_data.values\n",
    "\n",
    "# Make predictions on validation dataset\n",
    "def makePredictions(model):\n",
    "    model.fit(X_train, Y_train)\n",
    "    predictions = model.predict(X_validation)\n",
    "    print(accuracy_score(Y_validation, predictions))\n",
    "    print(confusion_matrix(Y_validation, predictions))\n",
    "    print(classification_report(Y_validation, predictions))\n",
    "    predictions = model.predict(new_X)\n",
    "    #for name, pred in zip(new_data.index.values, predictions):\n",
    "        #print(name,pred)\n",
    "    All_predictions.append(predictions)"
   ]
  },
  {
   "cell_type": "markdown",
   "metadata": {},
   "source": [
    "## Decision Tree Predictions"
   ]
  },
  {
   "cell_type": "code",
   "execution_count": 58,
   "metadata": {
    "collapsed": false
   },
   "outputs": [
    {
     "name": "stdout",
     "output_type": "stream",
     "text": [
      "0.5625\n",
      "[[2 0 2]\n",
      " [0 3 1]\n",
      " [3 1 4]]\n",
      "             precision    recall  f1-score   support\n",
      "\n",
      "         -1       0.40      0.50      0.44         4\n",
      "          0       0.75      0.75      0.75         4\n",
      "          1       0.57      0.50      0.53         8\n",
      "\n",
      "avg / total       0.57      0.56      0.57        16\n",
      "\n"
     ]
    }
   ],
   "source": [
    "makePredictions(DecisionTreeClassifier())"
   ]
  },
  {
   "cell_type": "markdown",
   "metadata": {},
   "source": [
    "## LDA Predictions"
   ]
  },
  {
   "cell_type": "code",
   "execution_count": 59,
   "metadata": {
    "collapsed": false
   },
   "outputs": [
    {
     "name": "stdout",
     "output_type": "stream",
     "text": [
      "0.5625\n",
      "[[2 1 1]\n",
      " [1 2 1]\n",
      " [3 0 5]]\n",
      "             precision    recall  f1-score   support\n",
      "\n",
      "         -1       0.33      0.50      0.40         4\n",
      "          0       0.67      0.50      0.57         4\n",
      "          1       0.71      0.62      0.67         8\n",
      "\n",
      "avg / total       0.61      0.56      0.58        16\n",
      "\n"
     ]
    }
   ],
   "source": [
    "makePredictions(LinearDiscriminantAnalysis())"
   ]
  },
  {
   "cell_type": "markdown",
   "metadata": {},
   "source": [
    "## Gaussian NB Predictions"
   ]
  },
  {
   "cell_type": "code",
   "execution_count": 60,
   "metadata": {
    "collapsed": false
   },
   "outputs": [
    {
     "name": "stdout",
     "output_type": "stream",
     "text": [
      "0.625\n",
      "[[1 2 1]\n",
      " [0 3 1]\n",
      " [1 1 6]]\n",
      "             precision    recall  f1-score   support\n",
      "\n",
      "         -1       0.50      0.25      0.33         4\n",
      "          0       0.50      0.75      0.60         4\n",
      "          1       0.75      0.75      0.75         8\n",
      "\n",
      "avg / total       0.62      0.62      0.61        16\n",
      "\n"
     ]
    }
   ],
   "source": [
    "makePredictions(GaussianNB())"
   ]
  },
  {
   "cell_type": "markdown",
   "metadata": {},
   "source": [
    "## Logistic Regression Predictions"
   ]
  },
  {
   "cell_type": "code",
   "execution_count": 61,
   "metadata": {
    "collapsed": false
   },
   "outputs": [
    {
     "name": "stdout",
     "output_type": "stream",
     "text": [
      "0.5625\n",
      "[[2 1 1]\n",
      " [0 3 1]\n",
      " [3 1 4]]\n",
      "             precision    recall  f1-score   support\n",
      "\n",
      "         -1       0.40      0.50      0.44         4\n",
      "          0       0.60      0.75      0.67         4\n",
      "          1       0.67      0.50      0.57         8\n",
      "\n",
      "avg / total       0.58      0.56      0.56        16\n",
      "\n"
     ]
    }
   ],
   "source": [
    "makePredictions(LogisticRegression())"
   ]
  },
  {
   "cell_type": "markdown",
   "metadata": {},
   "source": [
    "## KNN Predictions"
   ]
  },
  {
   "cell_type": "code",
   "execution_count": 62,
   "metadata": {
    "collapsed": false
   },
   "outputs": [
    {
     "name": "stdout",
     "output_type": "stream",
     "text": [
      "0.375\n",
      "[[1 1 2]\n",
      " [1 0 3]\n",
      " [2 1 5]]\n",
      "             precision    recall  f1-score   support\n",
      "\n",
      "         -1       0.25      0.25      0.25         4\n",
      "          0       0.00      0.00      0.00         4\n",
      "          1       0.50      0.62      0.56         8\n",
      "\n",
      "avg / total       0.31      0.38      0.34        16\n",
      "\n"
     ]
    }
   ],
   "source": [
    "makePredictions(KNeighborsClassifier())"
   ]
  },
  {
   "cell_type": "markdown",
   "metadata": {},
   "source": [
    "## SVC Prediction"
   ]
  },
  {
   "cell_type": "code",
   "execution_count": 63,
   "metadata": {
    "collapsed": false
   },
   "outputs": [
    {
     "name": "stdout",
     "output_type": "stream",
     "text": [
      "0.5\n",
      "[[0 0 4]\n",
      " [0 0 4]\n",
      " [0 0 8]]\n",
      "             precision    recall  f1-score   support\n",
      "\n",
      "         -1       0.00      0.00      0.00         4\n",
      "          0       0.00      0.00      0.00         4\n",
      "          1       0.50      1.00      0.67         8\n",
      "\n",
      "avg / total       0.25      0.50      0.33        16\n",
      "\n"
     ]
    },
    {
     "name": "stderr",
     "output_type": "stream",
     "text": [
      "C:\\Users\\Noah\\Anaconda3\\lib\\site-packages\\sklearn\\metrics\\classification.py:1074: UndefinedMetricWarning: Precision and F-score are ill-defined and being set to 0.0 in labels with no predicted samples.\n",
      "  'precision', 'predicted', average, warn_for)\n"
     ]
    }
   ],
   "source": [
    "makePredictions(SVC())"
   ]
  },
  {
   "cell_type": "code",
   "execution_count": 64,
   "metadata": {
    "collapsed": false
   },
   "outputs": [],
   "source": [
    "from itertools import chain\n",
    "chain = chain.from_iterable(zip(*All_predictions))\n",
    "preds = list(chain)\n",
    "all_preds = 'Name\\tCART\\tLDA\\tGNB\\tLR\\tKNN\\tSVC\\n'\n",
    "for i in range(int(len(preds)/7)):\n",
    "    #print(preds[i*7], preds[i*7+1:i*7+7])\n",
    "    all_preds+=(preds[i*7])\n",
    "    for j in range(i*7+1, i*7+7):\n",
    "        all_preds+='\\t' + str(preds[j])\n",
    "    all_preds+='\\n'\n",
    "#print(all_preds) \n",
    "all_preds.encode(\"utf-8\")\n",
    "with open(\"Data/Predictions/Forward.txt\", \"w\") as f:\n",
    "    f.write(all_preds)"
   ]
  },
  {
   "cell_type": "code",
   "execution_count": 65,
   "metadata": {
    "collapsed": false
   },
   "outputs": [],
   "source": [
    "import csv\n",
    "\n",
    "txt_file = r\"Data/Predictions/Forward.txt\"\n",
    "csv_file = r\"Data/Predictions/Forward.csv\"\n",
    "\n",
    "in_txt = csv.reader(open(txt_file, \"r\"), delimiter = '\\t')\n",
    "out_csv = csv.writer(open(csv_file, 'w', newline=''))\n",
    "out_csv.writerows(in_txt)\n",
    "del out_csv\n",
    "del in_txt"
   ]
  },
  {
   "cell_type": "code",
   "execution_count": null,
   "metadata": {
    "collapsed": true
   },
   "outputs": [],
   "source": []
  }
 ],
 "metadata": {
  "kernelspec": {
   "display_name": "Python 3",
   "language": "python",
   "name": "python3"
  },
  "language_info": {
   "codemirror_mode": {
    "name": "ipython",
    "version": 3
   },
   "file_extension": ".py",
   "mimetype": "text/x-python",
   "name": "python",
   "nbconvert_exporter": "python",
   "pygments_lexer": "ipython3",
   "version": "3.5.1"
  }
 },
 "nbformat": 4,
 "nbformat_minor": 0
}
