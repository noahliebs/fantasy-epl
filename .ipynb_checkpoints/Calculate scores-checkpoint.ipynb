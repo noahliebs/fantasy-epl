{
 "cells": [
  {
   "cell_type": "code",
   "execution_count": 294,
   "metadata": {
    "collapsed": true
   },
   "outputs": [],
   "source": [
    "import json\n",
    "\n",
    "with open('Data/advanced_fpl_cleaned_data.json', 'r') as json_data:\n",
    "    data = json.load(json_data)"
   ]
  },
  {
   "cell_type": "code",
   "execution_count": 295,
   "metadata": {
    "collapsed": false
   },
   "outputs": [],
   "source": [
    "#Index is (4-player[\"element_type\"]) Forward, midfield, defender, goalie\n",
    "togga_scoring = {\n",
    "\"goals_scored\": [9,9,10,10],\n",
    "\"assists\": [6,6,8,9],\n",
    "\"key_passes\": [2,2,2,6],\n",
    "\"ontarget_scoring_att\": [2,2,2,2],\n",
    "\"accurateCrosses_total\": [1,1,1,1],\n",
    "\"successful_dribbles\": [1,1,1,1],\n",
    "\"dispossessed_total\": [-0.5,-0.5,-0.5,-0.5],\n",
    "\"own_goals\": [-9,-9,-9,-9],\n",
    "\"clean_sheets\": [0,1,6,8],\n",
    "\"saves\": [0,0,0,2],\n",
    "\"interception_total\": [1,1,1,1],\n",
    "\"tackle_total\": [1,1,1,1],\n",
    "\"goals_conceded\": [0,0,-2,-2],\n",
    "\"penalties_saved\": [0,0,0,8],\n",
    "\"yellow_cards\": [-3,-3,-3,-3],\n",
    "\"red_cards\": [-7,-7,-7,-7],\n",
    "\"aerialWon_total\": [0.5,0.5,1,1],\n",
    "\"clearance_total\": [0,0,0.25,0.25]}"
   ]
  },
  {
   "cell_type": "code",
   "execution_count": 296,
   "metadata": {
    "collapsed": false
   },
   "outputs": [],
   "source": [
    "by_position = {1:[],2:[],3:[],4:[]}\n",
    "for player in data[\"elements\"]:\n",
    "    index = 4-player[\"element_type\"]\n",
    "    for season in player[\"history\"]:\n",
    "        score = 0\n",
    "        for stat in togga_scoring:\n",
    "            if player[\"history\"][season].get(stat):\n",
    "                score += togga_scoring[stat][index]*player[\"history\"][season][stat]\n",
    "                player[\"history\"][season][stat + \"_score\"] = togga_scoring[stat][index]*player[\"history\"][season][stat]\n",
    "            else:\n",
    "                player[\"history\"][season][stat+\"_score\"] = 0\n",
    "        player[\"history\"][season][\"togga_score\"] = score\n",
    "    # Set the scores to 0 if they have no history\n",
    "    if not (player[\"history\"].get(\"2015/16\")):\n",
    "        player['history'].update({'2015/16': {\"togga_score\":0}})\n",
    "    if not (player[\"history\"].get(\"2014/15\")):\n",
    "        player['history'].update({'2014/15': {\"togga_score\":0}})\n",
    "    if not (player[\"history\"].get(\"2013/14\")):\n",
    "        player['history'].update({'2013/14': {\"togga_score\":0}})\n",
    "    if not (player[\"history\"].get(\"2012/13\")):\n",
    "        player['history'].update({'2012/13': {\"togga_score\":0}})\n",
    "    by_position[player[\"element_type\"]].append(player)"
   ]
  },
  {
   "cell_type": "code",
   "execution_count": 297,
   "metadata": {
    "collapsed": false
   },
   "outputs": [],
   "source": [
    "# Hazard is 81\n",
    "with open('Data/example_player.json', 'w') as json_data:\n",
    "    json.dump(data[\"elements\"][81], json_data)"
   ]
  },
  {
   "cell_type": "code",
   "execution_count": 298,
   "metadata": {
    "collapsed": true
   },
   "outputs": [],
   "source": [
    "with open('Data/advanced_fpl_cleaned_data.json', 'w') as json_data:\n",
    "    json.dump(data, json_data)"
   ]
  },
  {
   "cell_type": "code",
   "execution_count": 300,
   "metadata": {
    "collapsed": false
   },
   "outputs": [],
   "source": [
    "bpcopy = by_position.copy()\n",
    "for position in by_position:\n",
    "    for i, player in enumerate(by_position[position]):\n",
    "        for year in ['2016/17', '2015/16', '2014/15', '2013/14', '2012/13']:\n",
    "            new_stats={}\n",
    "            for stat in player['history'][year]:\n",
    "                if stat in togga_scoring or stat in ['togga_score', 'apps', 'start_cost', 'end_cost', \n",
    "                                                    'total_pass', 'minutes'] or stat in [x+\"_total\" for x in togga_scoring]:\n",
    "                    new_stats.update({stat: player['history'][year][stat]})  \n",
    "            bpcopy[position][i]['history'].update({year:new_stats.copy()})\n",
    "                \n",
    "for year in ['2012/13', '2013/14', '2014/15', '2015/16', '2016/17']:\n",
    "    g = []\n",
    "    d = []\n",
    "    m = []\n",
    "    f = []\n",
    "    for i, player in enumerate(bpcopy[1]):\n",
    "        if player['history'][year]['togga_score'] != 0:\n",
    "            copy = player['history'][year].copy()\n",
    "            copy['name'] = player[\"name\"]\n",
    "            g.append(copy)\n",
    "    for i, player in enumerate(bpcopy[2]):\n",
    "        if player['history'][year]['togga_score'] != 0:\n",
    "            copy = player['history'][year].copy()\n",
    "            copy['name'] = player[\"name\"]\n",
    "            d.append(copy)\n",
    "    for i, player in enumerate(bpcopy[3]):\n",
    "        if player['history'][year]['togga_score'] != 0:\n",
    "            copy = player['history'][year].copy()\n",
    "            copy['name'] = player[\"name\"]\n",
    "            m.append(copy)\n",
    "    for i, player in enumerate(bpcopy[4]):\n",
    "        if player['history'][year]['togga_score'] != 0:\n",
    "            copy = player['history'][year].copy()\n",
    "            copy['name'] = player[\"name\"]\n",
    "            f.append(copy)\n",
    "    sorted_goalies = sorted(g, key=lambda k: k['togga_score'], reverse=True)\n",
    "    with open('Data/Sorted_Positions/sorted_goalies_%s+%s.json' % (year[:4], year[-2:]), 'w') as json_data:\n",
    "        json.dump(sorted_goalies, json_data)\n",
    "    sorted_defense = sorted(d, key=lambda k: k['togga_score'], reverse=True)\n",
    "    with open('Data/Sorted_Positions/sorted_defense_%s+%s.json' % (year[:4], year[-2:]), 'w') as json_data:\n",
    "        json.dump(sorted_defense, json_data)\n",
    "    sorted_midfield = sorted(m, key=lambda k: k['togga_score'], reverse=True)\n",
    "    with open('Data/Sorted_Positions/sorted_midfield_%s+%s.json' % (year[:4], year[-2:]), 'w') as json_data:\n",
    "        json.dump(sorted_midfield, json_data)\n",
    "    sorted_forwards = sorted(f, key=lambda k: k['togga_score'], reverse=True)\n",
    "    with open('Data/Sorted_Positions/sorted_forwards_%s+%s.json' % (year[:4], year[-2:]), 'w') as json_data:\n",
    "        json.dump(sorted_forwards, json_data)"
   ]
  },
  {
   "cell_type": "code",
   "execution_count": 301,
   "metadata": {
    "collapsed": true
   },
   "outputs": [],
   "source": [
    "with open('Data/positional.json', 'w') as json_data:\n",
    "    json.dump(bpcopy, json_data)"
   ]
  },
  {
   "cell_type": "code",
   "execution_count": 302,
   "metadata": {
    "collapsed": false
   },
   "outputs": [
    {
     "name": "stdout",
     "output_type": "stream",
     "text": [
      "name: Tom Heaton\tscore:283.500000\n",
      "name: Petr Cech\tscore:250.500000\n",
      "name: Hugo Lloris\tscore:243.000000\n",
      "name: Jordan Pickford\tscore:224.750000\n",
      "name: Thibaut Courtois\tscore:219.750000\n",
      "name: Kasper Schmeichel\tscore:216.000000\n",
      "name: Artur Boruc\tscore:204.250000\n",
      "name: Lee Grant\tscore:201.500000\n",
      "name: David de Gea\tscore:199.750000\n",
      "name: Heurelho Gomes\tscore:188.250000\n"
     ]
    }
   ],
   "source": [
    "for i in range(10):\n",
    "    name=sorted_goalies[i]['name']\n",
    "    score=sorted_goalies[i]['togga_score']\n",
    "    print(\"name: %s\\tscore:%f\" % (name, score))"
   ]
  },
  {
   "cell_type": "code",
   "execution_count": 303,
   "metadata": {
    "collapsed": false
   },
   "outputs": [
    {
     "name": "stdout",
     "output_type": "stream",
     "text": [
      "name: Marcos Alonso\tscore:397.250000\n",
      "name: César Azpilicueta\tscore:349.250000\n",
      "name: Gary Cahill\tscore:331.250000\n",
      "name: Nicolás Otamendi\tscore:321.250000\n",
      "name: Laurent Koscielny\tscore:305.000000\n",
      "name: Gareth McAuley\tscore:304.250000\n",
      "name: Jan Vertonghen\tscore:304.000000\n",
      "name: Steve Cook\tscore:293.500000\n",
      "name: Kyle Walker\tscore:293.500000\n",
      "name: Michael Keane\tscore:288.500000\n"
     ]
    }
   ],
   "source": [
    "for i in range(10):\n",
    "    name=sorted_defense[i]['name']\n",
    "    score=sorted_defense[i]['togga_score']\n",
    "    print(\"name: %s\\tscore:%f\" % (name, score))"
   ]
  },
  {
   "cell_type": "code",
   "execution_count": 304,
   "metadata": {
    "collapsed": false
   },
   "outputs": [
    {
     "name": "stdout",
     "output_type": "stream",
     "text": [
      "name: Alexis Sánchez\tscore:522.000000\n",
      "name: Eden Hazard\tscore:457.500000\n",
      "name: Gylfi Sigurdsson\tscore:440.500000\n",
      "name: Christian Eriksen\tscore:431.500000\n",
      "name: Kevin De Bruyne\tscore:410.000000\n",
      "name: Philippe Coutinho\tscore:377.500000\n",
      "name: Wilfried Zaha\tscore:369.500000\n",
      "name: Joshua King\tscore:358.000000\n",
      "name: James Milner\tscore:357.500000\n",
      "name: Michail Antonio\tscore:321.500000\n"
     ]
    }
   ],
   "source": [
    "for i in range(10):\n",
    "    name=sorted_midfield[i]['name']\n",
    "    score=sorted_midfield[i]['togga_score']\n",
    "    print(\"name: %s\\tscore:%f\" % (name, score))"
   ]
  },
  {
   "cell_type": "code",
   "execution_count": 305,
   "metadata": {
    "collapsed": false
   },
   "outputs": [
    {
     "name": "stdout",
     "output_type": "stream",
     "text": [
      "name: Harry Kane\tscore:478.000000\n",
      "name: Romelu Lukaku\tscore:464.000000\n",
      "name: Christian Benteke\tscore:369.500000\n",
      "name: Sergio Agüero\tscore:368.500000\n",
      "name: Diego Da Silva Costa\tscore:343.000000\n",
      "name: Zlatan Ibrahimovic\tscore:330.500000\n",
      "name: Jamie Vardy\tscore:283.500000\n",
      "name: Fernando Llorente\tscore:281.000000\n",
      "name: Sam Vokes\tscore:267.500000\n",
      "name: Álvaro Negredo\tscore:261.000000\n"
     ]
    }
   ],
   "source": [
    "for i in range(10):\n",
    "    name=sorted_forwards[i]['name']\n",
    "    score=sorted_forwards[i]['togga_score']\n",
    "    print(\"name: %s\\tscore:%f\" % (name, score))"
   ]
  },
  {
   "cell_type": "code",
   "execution_count": 31,
   "metadata": {
    "collapsed": false
   },
   "outputs": [],
   "source": [
    "by_year = {1:[],2:[],3:[],4:[],5:[]}\n",
    "for i, player in enumerate(data[\"elements\"]):\n",
    "    by_year[1].append(player)\n",
    "    if(len(player[\"history\"])>1) and player[\"history\"].get(\"2015/16\"):\n",
    "        by_year[2].append(player)\n",
    "        if(len(player[\"history\"])>2) and player[\"history\"].get(\"2014/15\"):\n",
    "            by_year[3].append(player)\n",
    "            if(len(player[\"history\"])>3) and player[\"history\"].get(\"2013/14\"):\n",
    "                by_year[4].append(player)\n",
    "                if(len(player[\"history\"])>4) and player[\"history\"].get(\"2012/13\"):\n",
    "                    by_year[5].append(player)"
   ]
  },
  {
   "cell_type": "code",
   "execution_count": 27,
   "metadata": {
    "collapsed": false
   },
   "outputs": [],
   "source": [
    "with open('Data/by_experience.json', 'w') as json_data:\n",
    "    json.dump(by_year, json_data)"
   ]
  },
  {
   "cell_type": "code",
   "execution_count": 62,
   "metadata": {
    "collapsed": false
   },
   "outputs": [],
   "source": [
    "point_ranking_16_17 = []\n",
    "point_ranking_15_16 = []\n",
    "point_ranking_14_15 = []\n",
    "point_ranking_13_14 = []\n",
    "point_ranking_12_13 = []\n",
    "for i, player in enumerate(data[\"elements\"]):\n",
    "    try:\n",
    "        if player in by_year[1]:\n",
    "            point_ranking_16_17.append((player[\"name\"], player[\"history\"][\"2016/17\"][\"togga_score\"]))\n",
    "        if player in by_year[2]:\n",
    "            point_ranking_15_16.append((player[\"name\"], player[\"history\"][\"2015/16\"][\"togga_score\"]))\n",
    "        if player in by_year[3]:\n",
    "            point_ranking_14_15.append((player[\"name\"], player[\"history\"][\"2014/15\"][\"togga_score\"]))\n",
    "        if player in by_year[4]:\n",
    "            point_ranking_13_14.append((player[\"name\"], player[\"history\"][\"2013/14\"][\"togga_score\"]))\n",
    "        if player in by_year[5]:\n",
    "            point_ranking_12_13.append((player[\"name\"], player[\"history\"][\"2012/13\"][\"togga_score\"]))\n",
    "    except:\n",
    "        print(i)\n"
   ]
  },
  {
   "cell_type": "code",
   "execution_count": 46,
   "metadata": {
    "collapsed": false
   },
   "outputs": [],
   "source": [
    "#print(sorted(point_ranking_16_17, key=lambda tup: tup[1], reverse=True))\n",
    "#print(sorted(point_ranking_15_16, key=lambda tup: tup[1], reverse=True))\n",
    "#print(sorted(point_ranking_14_15, key=lambda tup: tup[1], reverse=True))\n",
    "#print(sorted(point_ranking_13_14, key=lambda tup: tup[1], reverse=True))\n",
    "#print(sorted(point_ranking_12_13, key=lambda tup: tup[1], reverse=True))"
   ]
  }
 ],
 "metadata": {
  "kernelspec": {
   "display_name": "Python 3",
   "language": "python",
   "name": "python3"
  },
  "language_info": {
   "codemirror_mode": {
    "name": "ipython",
    "version": 3
   },
   "file_extension": ".py",
   "mimetype": "text/x-python",
   "name": "python",
   "nbconvert_exporter": "python",
   "pygments_lexer": "ipython3",
   "version": "3.5.1"
  }
 },
 "nbformat": 4,
 "nbformat_minor": 0
}
