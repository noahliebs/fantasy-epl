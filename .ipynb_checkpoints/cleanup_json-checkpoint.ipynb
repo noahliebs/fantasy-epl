{
 "cells": [
  {
   "cell_type": "code",
   "execution_count": 2,
   "metadata": {
    "collapsed": false
   },
   "outputs": [],
   "source": [
    "import json\n",
    "\n",
    "\n",
    "with open('Data/fpl_data.json', 'r') as json_data:\n",
    "    data = json.load(json_data)\n",
    "\n",
    "del data[\"game-settings\"]\n",
    "del data[\"total-players\"]\n",
    "del data[\"events\"]\n",
    "    \n",
    "for element in data[\"elements\"]: \n",
    "    element[\"name\"] = element[\"first_name\"] + \" \" + element[\"second_name\"]\n",
    "    del element['history'][\"fixtures\"] \n",
    "    del element['history'][\"fixtures_summary\"]\n",
    "    del element['history'][\"history_summary\"]\n",
    "    del element['history'][\"explain\"]\n",
    "    del element['history'][\"history\"]\n",
    "    \n",
    "    del element[\"news\"]\n",
    "    del element[\"photo\"]\n",
    "    del element[\"web_name\"]\n",
    "    del element[\"value_form\"]\n",
    "    del element[\"form\"]\n",
    "    del element[\"loaned_in\"]\n",
    "    del element[\"loaned_out\"]\n",
    "    del element[\"transfers_out_event\"]\n",
    "    del element[\"transfers_in_event\"] \n",
    "    \n",
    "    del element[\"chance_of_playing_this_round\"]\n",
    "    del element[\"chance_of_playing_next_round\"]\n",
    "    del element[\"cost_change_event\"]\n",
    "    del element[\"cost_change_start_fall\"]\n",
    "    del element[\"cost_change_event_fall\"]\n",
    "    if element.get(\"transfers_out_event\") is not None:\n",
    "        del element[\"transfers_out_event\"]\n",
    "    if element.get(\"transfers_in_event\") is not None:\n",
    "        del element[\"transfers_in_event\"]\n",
    "    if element.get(\"loans_in\") is not None:\n",
    "        del element[\"loans_in\"]\n",
    "    if element.get(\"loans_out\") is not None:\n",
    "        del element[\"loans_out\"]\n",
    "    if element.get(\"loaned_in\") is not None:\n",
    "        del element[\"loaned_in\"]\n",
    "    if element.get(\"loaned_out\") is not None:\n",
    "        del element[\"loaned_out\"]\n",
    "    if element.get(\"event_points\") is not None:\n",
    "        del element[\"event_points\"]\n",
    "    if element.get(\"team_code\") is not None:\n",
    "        del element[\"team_code\"]\n",
    "    if element.get(\"photo\") is not None:\n",
    "        del element[\"photo\"]\n",
    "\n",
    "        \n",
    "    years = len(element['history']['history_past'])\n",
    "    seasons = element['history']['history_past'].copy() \n",
    "    element['history']['history_past']={}\n",
    "    for y in seasons:\n",
    "        succeed = True\n",
    "        season_name = y['season_name']\n",
    "        new = {season_name:y}\n",
    "        element['history']['history_past'].update(new.copy()) \n"
   ]
  },
  {
   "cell_type": "code",
   "execution_count": 3,
   "metadata": {
    "collapsed": true
   },
   "outputs": [],
   "source": [
    "with open('Data/fpl_cleaned_data.json', 'w') as json_data:\n",
    "    json.dump(data, json_data)"
   ]
  },
  {
   "cell_type": "code",
   "execution_count": null,
   "metadata": {
    "collapsed": true
   },
   "outputs": [],
   "source": []
  }
 ],
 "metadata": {
  "kernelspec": {
   "display_name": "Python 3",
   "language": "python",
   "name": "python3"
  },
  "language_info": {
   "codemirror_mode": {
    "name": "ipython",
    "version": 3
   },
   "file_extension": ".py",
   "mimetype": "text/x-python",
   "name": "python",
   "nbconvert_exporter": "python",
   "pygments_lexer": "ipython3",
   "version": "3.5.1"
  }
 },
 "nbformat": 4,
 "nbformat_minor": 0
}
