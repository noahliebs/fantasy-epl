{
 "cells": [
  {
   "cell_type": "code",
   "execution_count": 7,
   "metadata": {
    "collapsed": true
   },
   "outputs": [],
   "source": [
    "import json\n",
    "import numpy\n",
    "import pandas"
   ]
  },
  {
   "cell_type": "code",
   "execution_count": 128,
   "metadata": {
    "collapsed": true
   },
   "outputs": [],
   "source": [
    "stats = {\"total_offside\": [70,80,80,80,100] , \"total_pass\":[300,60,100,100,200], \"total_tackle\":[300,150,200,200,300],\n",
    "         \"dispossessed\":[200,200,200,200,200], \"interception\":[100,100,100,100,100],\"total_cross\":[50,200,200,200,200], \"corner_taken\":[20,200,200,200,200], \n",
    "         \"total_through_ball\":[200,200,200,200,200], \"total_clearance\":[100,20,75,20,200],\n",
    "         \"fouls\":[200,300,300,200,300], \"ontarget_scoring_att\":[100,100,100,100,100]}"
   ]
  },
  {
   "cell_type": "code",
   "execution_count": 19,
   "metadata": {
    "collapsed": false
   },
   "outputs": [],
   "source": [
    "final_command=\"\"\n",
    "for stat in stats:\n",
    "    curl = '''curl \"https://footballapi.pulselive.com/football/stats/ranked/players/%s?page=0&pageSize=%s&compSeasons=54&comps=1&compCodeForActivePlayer=EN_PR&altIds=true\" -H \"Host: footballapi.pulselive.com\" -H \"User-Agent: Mozilla/5.0 (Windows NT 10.0; WOW64; rv:54.0) Gecko/20100101 Firefox/54.0\" -H \"Accept: */*\" -H \"Accept-Language: en-US,en;q=0.5\" --compressed -H \"Content-Type: application/x-www-form-urlencoded; charset=UTF-8\" -H \"Referer: https://www.premierleague.com/stats/top/players/%s\" -H \"Origin: https://www.premierleague.com\" -H \"Connection: keep-alive\" -H \"If-None-Match: W/\"\"0b7bac1f6336825436947123705ebd172\"\"\" > %s_2016+17.json''' % (stat, stats[stat][0], stat, stat)\n",
    "    curl += ''' && curl \"https://footballapi.pulselive.com/football/stats/ranked/players/%s?page=0&pageSize=%s&compSeasons=42&comps=1&compCodeForActivePlayer=EN_PR&altIds=true\" -H \"Host: footballapi.pulselive.com\" -H \"User-Agent: Mozilla/5.0 (Windows NT 10.0; WOW64; rv:54.0) Gecko/20100101 Firefox/54.0\" -H \"Accept: */*\" -H \"Accept-Language: en-US,en;q=0.5\" --compressed -H \"Content-Type: application/x-www-form-urlencoded; charset=UTF-8\" -H \"Referer: https://www.premierleague.com/stats/top/players/%s\" -H \"Origin: https://www.premierleague.com\" -H \"Connection: keep-alive\" -H \"If-None-Match: W/\"\"0b7bac1f6336825436947123705ebd172\"\"\" > %s_2015+16.json''' % (stat, stats[stat][1], stat, stat)\n",
    "    curl += ''' && curl \"https://footballapi.pulselive.com/football/stats/ranked/players/%s?page=0&pageSize=%s&compSeasons=27&comps=1&compCodeForActivePlayer=EN_PR&altIds=true\" -H \"Host: footballapi.pulselive.com\" -H \"User-Agent: Mozilla/5.0 (Windows NT 10.0; WOW64; rv:54.0) Gecko/20100101 Firefox/54.0\" -H \"Accept: */*\" -H \"Accept-Language: en-US,en;q=0.5\" --compressed -H \"Content-Type: application/x-www-form-urlencoded; charset=UTF-8\" -H \"Referer: https://www.premierleague.com/stats/top/players/%s\" -H \"Origin: https://www.premierleague.com\" -H \"Connection: keep-alive\" -H \"If-None-Match: W/\"\"0b7bac1f6336825436947123705ebd172\"\"\" > %s_2014+15.json''' % (stat, stats[stat][2], stat, stat)\n",
    "    curl += ''' && curl \"https://footballapi.pulselive.com/football/stats/ranked/players/%s?page=0&pageSize=%s&compSeasons=22&comps=1&compCodeForActivePlayer=EN_PR&altIds=true\" -H \"Host: footballapi.pulselive.com\" -H \"User-Agent: Mozilla/5.0 (Windows NT 10.0; WOW64; rv:54.0) Gecko/20100101 Firefox/54.0\" -H \"Accept: */*\" -H \"Accept-Language: en-US,en;q=0.5\" --compressed -H \"Content-Type: application/x-www-form-urlencoded; charset=UTF-8\" -H \"Referer: https://www.premierleague.com/stats/top/players/%s\" -H \"Origin: https://www.premierleague.com\" -H \"Connection: keep-alive\" -H \"If-None-Match: W/\"\"0b7bac1f6336825436947123705ebd172\"\"\" > %s_2013+14.json''' % (stat, stats[stat][3], stat, stat)\n",
    "    curl += ''' && curl \"https://footballapi.pulselive.com/football/stats/ranked/players/%s?page=0&pageSize=%s&compSeasons=21&comps=1&compCodeForActivePlayer=EN_PR&altIds=true\" -H \"Host: footballapi.pulselive.com\" -H \"User-Agent: Mozilla/5.0 (Windows NT 10.0; WOW64; rv:54.0) Gecko/20100101 Firefox/54.0\" -H \"Accept: */*\" -H \"Accept-Language: en-US,en;q=0.5\" --compressed -H \"Content-Type: application/x-www-form-urlencoded; charset=UTF-8\" -H \"Referer: https://www.premierleague.com/stats/top/players/%s\" -H \"Origin: https://www.premierleague.com\" -H \"Connection: keep-alive\" -H \"If-None-Match: W/\"\"0b7bac1f6336825436947123705ebd172\"\"\" > %s_2012+13.json''' % (stat, stats[stat][4], stat, stat)\n",
    "    file = \"%s.sh\" % stat\n",
    "    with open(\"Data/Advanced_stats/%s\" % file, \"w\") as text_file:\n",
    "        text_file.write(curl)\n",
    "    final_command += \" echo %s: &&\" % stat\n",
    "    final_command += \" chmod 755 %s &&\" % file\n",
    "    final_command += \" ./%s &&\" % (file)\n",
    "with open(\"Data/Advanced_stats/load_advanced_stats.sh\", \"w\") as sh_file:\n",
    "        sh_file.write(final_command[1:-2])"
   ]
  },
  {
   "cell_type": "markdown",
   "metadata": {},
   "source": [
    "NOW YOU HAVE TO CHMOD 755 load_advanced_stats.sh AND ./load_advanced_stats.sh"
   ]
  },
  {
   "cell_type": "markdown",
   "metadata": {},
   "source": [
    "Create a list of first and last names for each season and stat to be used later"
   ]
  },
  {
   "cell_type": "code",
   "execution_count": 4,
   "metadata": {
    "collapsed": true
   },
   "outputs": [],
   "source": [
    "years = [\"2012/13\", \"2013/14\", \"2014/15\", \"2015/16\", \"2016/17\"]"
   ]
  },
  {
   "cell_type": "code",
   "execution_count": 116,
   "metadata": {
    "collapsed": false
   },
   "outputs": [],
   "source": [
    "for year in years:\n",
    "    for stat in stats:\n",
    "        file = \"Data/Advanced_stats/\" + stat + \"_\" + (year[:4] + \"+\" + year[5:] + '.json')\n",
    "        with open(file, 'r', encoding=\"utf8\") as stat_file:\n",
    "            stat_data = json.load(stat_file)  \n",
    "        first_names = {}\n",
    "        last_names = {}\n",
    "        for i, player in enumerate(stat_data[\"stats\"][\"content\"]):\n",
    "            if player[\"owner\"][\"name\"][\"first\"] not in first_names:\n",
    "                first_names.update({player[\"owner\"][\"name\"][\"first\"]: [i]})\n",
    "            else:\n",
    "                first_names[player[\"owner\"][\"name\"][\"first\"]].append(i)\n",
    "            if player[\"owner\"][\"name\"][\"last\"] not in last_names:\n",
    "                last_names.update({player[\"owner\"][\"name\"][\"last\"]: [i]})\n",
    "            else:\n",
    "                last_names[player[\"owner\"][\"name\"][\"last\"]].append(i)\n",
    "            stat_data[\"first_names\"] = first_names\n",
    "            stat_data[\"last_names\"] = last_names\n",
    "        with open(file, 'w', encoding=\"utf8\") as json_data:\n",
    "            json.dump(stat_data, json_data)"
   ]
  },
  {
   "cell_type": "markdown",
   "metadata": {},
   "source": [
    "Load Data"
   ]
  },
  {
   "cell_type": "code",
   "execution_count": 2,
   "metadata": {
    "collapsed": false
   },
   "outputs": [],
   "source": [
    "with open('Data/fpl_cleaned_data.json', 'r') as json_data:\n",
    "    data = json.load(json_data)"
   ]
  },
  {
   "cell_type": "markdown",
   "metadata": {},
   "source": [
    "Add Advanced Statistics to history_past \n",
    "Cross reference players by first and last name"
   ]
  },
  {
   "cell_type": "code",
   "execution_count": 130,
   "metadata": {
    "collapsed": false
   },
   "outputs": [
    {
     "name": "stdout",
     "output_type": "stream",
     "text": [
      "5979\n",
      "15236\n"
     ]
    }
   ],
   "source": [
    "hits = 0\n",
    "misses = 0\n",
    "\n",
    "for player in data[\"elements\"]:\n",
    "    for year in years:\n",
    "        if year in player[\"history\"][\"history_past\"]:\n",
    "            for stat in stats:\n",
    "                file = \"Data/Advanced_Stats/\" + stat + \"_\" + (year[:4] + \"+\" + year[5:] + \".json\")\n",
    "                with open(file, 'r') as stat_file:\n",
    "                    stat_data = json.load(stat_file)                    \n",
    "                ##Petr crouch\n",
    "                ##\"content[0]\":\"owner\":\"altIds\": {\"opta\": \"p3773\"\n",
    "                #data[elements][335][code]\n",
    "                by_first = stat_data[\"first_names\"].get(player[\"first_name\"])\n",
    "                by_last = stat_data[\"last_names\"].get(player[\"second_name\"])\n",
    "                if by_first is not None and by_last is not None:\n",
    "                    intersection = list(set(by_first).intersection(by_last))\n",
    "                    if (len(intersection)>0) :\n",
    "                        hits += 1\n",
    "                        index = intersection[0]\n",
    "                        player[\"history\"][\"history_past\"][year][stat] = stat_data[\"stats\"][\"content\"][index][\"value\"]\n",
    "                        if (len(intersection)>1):\n",
    "                            print(\"OMG\\nOMG\\nOMG\\nOMG\\nOMG\\n\")\n",
    "                else: misses+=1\n",
    "print(hits)\n",
    "print(misses)"
   ]
  },
  {
   "cell_type": "markdown",
   "metadata": {},
   "source": [
    "# Get Data from WhoScored.com"
   ]
  },
  {
   "cell_type": "markdown",
   "metadata": {},
   "source": [
    "You must chmod 755 and ./whoscored.sh!"
   ]
  },
  {
   "cell_type": "code",
   "execution_count": 3,
   "metadata": {
    "collapsed": true
   },
   "outputs": [],
   "source": [
    "curl = '''curl \"https://www.whoscored.com/StatisticsFeed/1/GetPlayerStatistics?category=summary&subcategory=offensive&statsAccumulationType=0&isCurrent=true&stageId=13796&tournamentOptions=2&sortBy=Rating&field=Overall&isMinApp=true&numberOfPlayersToPick=284\" -H \"Host: www.whoscored.com\" -H \"User-Agent: Mozilla/5.0 (Windows NT 10.0; WOW64; rv:54.0) Gecko/20100101 Firefox/54.0\" -H \"Accept: application/json, text/javascript, */*; q=0.01\" -H \"Accept-Language: en-US,en;q=0.5\" --compressed -H \"Model-last-Mode: fc2RJ6YyRD54jXlw7c0xtd7e1WIf3xwZ3ReebQZVo08=\" -H \"X-Requested-With: XMLHttpRequest\" -H \"Referer: https://www.whoscored.com/Regions/252/Tournaments/2/Seasons/6335/Stages/13796/PlayerStatistics/England-Premier-League-2016-2017\" -H \"Cookie: visid_incap_774904=21pZ54dDRAywotQ9pe6YvRXWSVkAAAAAQUIPAAAAAAAFboXme6JrQCmWOpiqwj9x; _ga=GA1.2.103490423.1498011155; incap_ses_567_774904=cCHtFjuWAEE7Pud2yWPeB7zIVVkAAAAANPEyQR3gLnHhxrhOpEhIeg==; _gid=GA1.2.624122967.1498794174; _gat=1; _gat_subdomainTracker=1\" -H \"Connection: keep-alive\" -H \"Pragma: no-cache\" -H \"Cache-Control: no-cache\" > whoscored_2016+17'''\n",
    "curl += ''' && curl \"https://www.whoscored.com/StatisticsFeed/1/GetPlayerStatistics?category=summary&subcategory=offensive&statsAccumulationType=0&isCurrent=true&stageId=12496&tournamentOptions=2&sortBy=dribbleWonPerGame&sortAscending=false&field=Overall&isMinApp=true&page=1&numberOfPlayersToPick=283\" -H \"Host: www.whoscored.com\" -H \"User-Agent: Mozilla/5.0 (Windows NT 10.0; WOW64; rv:54.0) Gecko/20100101 Firefox/54.0\" -H \"Accept: application/json, text/javascript, */*; q=0.01\" -H \"Accept-Language: en-US,en;q=0.5\" --compressed -H \"Model-last-Mode: 4okqVGm6xj3gYjsabspko0nXPllQ0He1YHUyy9ilbWc=\" -H \"X-Requested-With: XMLHttpRequest\" -H \"Referer: https://www.whoscored.com/Regions/252/Tournaments/2/Seasons/5826/Stages/12496/PlayerStatistics/England-Premier-League-2015-2016\" -H \"Cookie: visid_incap_774904=21pZ54dDRAywotQ9pe6YvRXWSVkAAAAAQUIPAAAAAAAFboXme6JrQCmWOpiqwj9x; _ga=GA1.2.103490423.1498011155; incap_ses_567_774904=cCHtFjuWAEE7Pud2yWPeB7zIVVkAAAAANPEyQR3gLnHhxrhOpEhIeg==; _gid=GA1.2.624122967.1498794174; _gat=1\" -H \"Connection: keep-alive\" -H \"Pragma: no-cache\" -H \"Cache-Control: no-cache\" > whoscored_2015+16'''\n",
    "curl += ''' && curl \"https://www.whoscored.com/StatisticsFeed/1/GetPlayerStatistics?category=summary&subcategory=offensive&statsAccumulationType=0&isCurrent=true&stageId=9155&tournamentOptions=2&sortBy=Rating&sortAscending=false&field=Overall&isMinApp=true&page=1&numberOfPlayersToPick=296\" -H \"Host: www.whoscored.com\" -H \"User-Agent: Mozilla/5.0 (Windows NT 10.0; WOW64; rv:54.0) Gecko/20100101 Firefox/54.0\" -H \"Accept: application/json, text/javascript, */*; q=0.01\" -H \"Accept-Language: en-US,en;q=0.5\" --compressed -H \"Model-last-Mode: Zu0jZjaZLds52xj+URddoiGv0xphwJ3xqBYzcsKjuuY=\" -H \"X-Requested-With: XMLHttpRequest\" -H \"Referer: https://www.whoscored.com/Regions/252/Tournaments/2/Seasons/4311/Stages/9155/PlayerStatistics/England-Premier-League-2014-2015\" -H \"Cookie: visid_incap_774904=21pZ54dDRAywotQ9pe6YvRXWSVkAAAAAQUIPAAAAAAAFboXme6JrQCmWOpiqwj9x; _ga=GA1.2.103490423.1498011155; incap_ses_567_774904=cCHtFjuWAEE7Pud2yWPeB7zIVVkAAAAANPEyQR3gLnHhxrhOpEhIeg==; _gid=GA1.2.624122967.1498794174; _gat=1\" -H \"Connection: keep-alive\" -H \"Pragma: no-cache\" -H \"Cache-Control: no-cache\" > whoscored_2014+15'''\n",
    "curl += ''' && curl \"https://www.whoscored.com/StatisticsFeed/1/GetPlayerStatistics?category=summary&subcategory=offensive&statsAccumulationType=0&isCurrent=true&stageId=7794&tournamentOptions=2&sortBy=Rating&field=Overall&isMinApp=true&numberOfPlayersToPick=295\" -H \"Host: www.whoscored.com\" -H \"User-Agent: Mozilla/5.0 (Windows NT 10.0; WOW64; rv:54.0) Gecko/20100101 Firefox/54.0\" -H \"Accept: application/json, text/javascript, */*; q=0.01\" -H \"Accept-Language: en-US,en;q=0.5\" --compressed -H \"Model-last-Mode: NuCR1qvcjreBF2K2eTKuRKVFXrRnzYgOPK2IQ4Yn5u8=\" -H \"X-Requested-With: XMLHttpRequest\" -H \"Referer: https://www.whoscored.com/Regions/252/Tournaments/2/Seasons/3853/Stages/7794/PlayerStatistics/England-Premier-League-2013-2014\" -H \"Cookie: visid_incap_774904=21pZ54dDRAywotQ9pe6YvRXWSVkAAAAAQUIPAAAAAAAFboXme6JrQCmWOpiqwj9x; _ga=GA1.2.103490423.1498011155; incap_ses_567_774904=cCHtFjuWAEE7Pud2yWPeB7zIVVkAAAAANPEyQR3gLnHhxrhOpEhIeg==; _gid=GA1.2.624122967.1498794174\" -H \"Connection: keep-alive\" -H \"Pragma: no-cache\" -H \"Cache-Control: no-cache\" > whoscored_2013+14'''\n",
    "curl += ''' && curl \"https://www.whoscored.com/StatisticsFeed/1/GetPlayerStatistics?category=summary&subcategory=offensive&statsAccumulationType=0&isCurrent=true&stageId=6531&tournamentOptions=2&sortBy=Rating&field=Overall&isMinApp=true&numberOfPlayersToPick=291\"-H \"Host: www.whoscored.com\" -H \"User-Agent: Mozilla/5.0 (Windows NT 10.0; WOW64; rv:54.0) Gecko/20100101 Firefox/54.0\" -H \"Accept: application/json, text/javascript, */*; q=0.01\" -H \"Accept-Language: en-US,en;q=0.5\" --compressed -H \"Model-last-Mode: i5SidRC2VsVm9Uo4DONDhSKe+Ho7byh5PEjcKjEQiSk=\" -H \"X-Requested-With: XMLHttpRequest\" -H \"Referer: https://www.whoscored.com/Regions/252/Tournaments/2/Seasons/3389/Stages/6531/PlayerStatistics/England-Premier-League-2012-2013\" -H \"Cookie: visid_incap_774904=21pZ54dDRAywotQ9pe6YvRXWSVkAAAAAQUIPAAAAAAAFboXme6JrQCmWOpiqwj9x; _ga=GA1.2.103490423.1498011155; incap_ses_567_774904=cCHtFjuWAEE7Pud2yWPeB7zIVVkAAAAANPEyQR3gLnHhxrhOpEhIeg==; _gid=GA1.2.624122967.1498794174; _gat=1; _gat_subdomainTracker=1\" -H \"Connection: keep-alive\" -H \"Pragma: no-cache\" -H \"Cache-Control: no-cache\" > whoscored_2012+13'''\n",
    "\n",
    "file = 'whoscored.sh'\n",
    "\n",
    "with open(\"Data/Advanced_stats/%s\" % file, \"w\") as text_file:\n",
    "        text_file.write(curl)"
   ]
  },
  {
   "cell_type": "code",
   "execution_count": 120,
   "metadata": {
    "collapsed": false
   },
   "outputs": [],
   "source": [
    "import json\n",
    "years = [\"2012/13\", \"2013/14\", \"2014/15\", \"2015/16\", \"2016/17\"]\n",
    "for year in years:\n",
    "    file = \"Data/Advanced_stats/whoscored_\" + (year[:4] + \"+\" + year[5:] + '.json')\n",
    "    with open(file, 'r', encoding=\"utf8\") as stat_file:\n",
    "        stat_data = json.load(stat_file)  \n",
    "    names = {}\n",
    "    for i, player in enumerate(stat_data[\"playerTableStats\"]):\n",
    "        name = player[\"name\"]\n",
    "        if name not in names:\n",
    "            names.update({name: [i]})\n",
    "        else:\n",
    "            names[name].append(i)\n",
    "    stat_data[\"names\"] = names\n",
    "    with open(file, 'w', encoding=\"utf8\") as json_data:\n",
    "        json.dump(stat_data, json_data)"
   ]
  },
  {
   "cell_type": "code",
   "execution_count": 131,
   "metadata": {
    "collapsed": true
   },
   "outputs": [],
   "source": [
    "for player in data[\"elements\"]: \n",
    "    player[\"history\"] = player[\"history\"][\"history_past\"]"
   ]
  },
  {
   "cell_type": "code",
   "execution_count": 5,
   "metadata": {
    "collapsed": false
   },
   "outputs": [
    {
     "name": "stdout",
     "output_type": "stream",
     "text": [
      "5110\n",
      "11965\n"
     ]
    }
   ],
   "source": [
    "stats = [\"apps\", \"minsPlayed\", \"keyPassPerGame\", \"dribbleWonPerGame\", \"dispossessedPerGame\"]\n",
    "\n",
    "hits = 0\n",
    "misses = 0\n",
    "\n",
    "for player in data[\"elements\"]:\n",
    "    for year in years:\n",
    "        if year in player[\"history\"]:\n",
    "            file = \"Data/Advanced_Stats/whoscored\" + \"_\" + (year[:4] + \"+\" + year[5:] + \".json\")\n",
    "            with open(file, 'r') as stat_file:\n",
    "                stat_data = json.load(stat_file)  \n",
    "            for stat in stats:                 \n",
    "                ##Petr crouch\n",
    "                ##\"content[0]\":\"owner\":\"altIds\": {\"opta\": \"p3773\"\n",
    "                #data[elements][335][code]\n",
    "                by_web = stat_data[\"names\"].get(player[\"web_name\"])\n",
    "                by_name = stat_data[\"names\"].get(player[\"name\"])\n",
    "                if by_name is not None:\n",
    "                    index = by_name[0]\n",
    "                    hits += 1\n",
    "                    player[\"history\"][year][stat] = stat_data[\"playerTableStats\"][index][stat]\n",
    "                elif by_web is not None:\n",
    "                    index = by_web[0]\n",
    "                    hits += 1\n",
    "                    player[\"history\"][year][stat] = stat_data[\"playerTableStats\"][index][stat]\n",
    "                else: misses+=1\n",
    "print(hits)\n",
    "print(misses)"
   ]
  },
  {
   "cell_type": "code",
   "execution_count": 6,
   "metadata": {
    "collapsed": false
   },
   "outputs": [],
   "source": [
    "hits = 0\n",
    "misses = 0\n",
    "for player in data[\"elements\"]:\n",
    "    for year in player[\"history\"]:\n",
    "        if player[\"history\"][year].get(\"apps\"):\n",
    "            if player[\"history\"][year].get(\"dribbleWonPerGame\"):\n",
    "                hits+=1\n",
    "                player[\"history\"][year][\"successful_dribbles\"] = player[\"history\"][year][\"apps\"] * player[\"history\"][year][\"dribbleWonPerGame\"]\n",
    "            if player[\"history\"][year].get(\"keyPassPerGame\"):\n",
    "                player[\"history\"][year][\"key_passes\"] = player[\"history\"][year][\"apps\"] * player[\"history\"][year][\"keyPassPerGame\"]\n",
    "            if player[\"history\"][year].get(\"dispossessedPerGame\"):\n",
    "                player[\"history\"][year][\"dispossessed_total\"] = player[\"history\"][year][\"apps\"] * player[\"history\"][year][\"dispossessedPerGame\"]\n",
    "        else: \n",
    "            misses+=1"
   ]
  },
  {
   "cell_type": "markdown",
   "metadata": {
    "collapsed": true
   },
   "source": [
    "Who Scored Aerial duels"
   ]
  },
  {
   "cell_type": "code",
   "execution_count": 6,
   "metadata": {
    "collapsed": true
   },
   "outputs": [],
   "source": [
    "curl = '''curl \"https://www.whoscored.com/StatisticsFeed/1/GetPlayerStatistics?category=summary&subcategory=all&statsAccumulationType=0&isCurrent=true&stageId=13796&tournamentOptions=2&sortBy=aerialWonPerGame&sortAscending=false&field=Overall&isMinApp=true&page=1&numberOfPlayersToPick=284\" -H \"Host: www.whoscored.com\" -H \"User-Agent: Mozilla/5.0 (Windows NT 10.0; WOW64; rv:54.0) Gecko/20100101 Firefox/54.0\" -H \"Accept: application/json, text/javascript, */*; q=0.01\" -H \"Accept-Language: en-US,en;q=0.5\" --compressed -H \"Model-last-Mode: /KrLmorZXLbJ0f2xlwVHBsoIAb5R5pdBMoYGXsxGd0w=\" -H \"X-Requested-With: XMLHttpRequest\" -H \"Referer: https://www.whoscored.com/Regions/252/Tournaments/2/Seasons/6335/Stages/13796/PlayerStatistics/England-Premier-League-2016-2017\" -H \"Cookie: visid_incap_774904=21pZ54dDRAywotQ9pe6YvRXWSVkAAAAAQUIPAAAAAAAFboXme6JrQCmWOpiqwj9x; _ga=GA1.2.103490423.1498011155; incap_ses_544_774904=tAktPpgtSTpCA78Jcq2MB1QjWFkAAAAAVH3+n1N+y4o1uAb565e2+Q==; incap_ses_622_774904=fqVfOdbnCngkBHJK5cmhCN+JWVkAAAAA+zrHd4n1VxyhjDGibdYy0w==; _gid=GA1.2.528190469.1499040223; _gat=1; _gat_subdomainTracker=1\" -H \"Connection: keep-alive\" -H \"Pragma: no-cache\" -H \"Cache-Control: no-cache\" > who_aerial_2016+17.json'''\n",
    "curl += ''' && curl \"https://www.whoscored.com/StatisticsFeed/1/GetPlayerStatistics?category=summary&subcategory=all&statsAccumulationType=0&isCurrent=true&stageId=12496&tournamentOptions=2&sortBy=aerialWonPerGame&sortAscending=true&field=Overall&isMinApp=true&page=1&numberOfPlayersToPick=298\" -H \"Host: www.whoscored.com\" -H \"User-Agent: Mozilla/5.0 (Windows NT 10.0; WOW64; rv:54.0) Gecko/20100101 Firefox/54.0\" -H \"Accept: application/json, text/javascript, */*; q=0.01\" -H \"Accept-Language: en-US,en;q=0.5\" --compressed -H \"Model-last-Mode: aIVp0RQh0HbOO5nwdJiKPdaMIiEK65gUMaDkPp9V5Ew=\" -H \"X-Requested-With: XMLHttpRequest\" -H \"Referer: https://www.whoscored.com/Regions/252/Tournaments/2/Seasons/5826/Stages/12496/PlayerStatistics/England-Premier-League-2015-2016\" -H \"Cookie: visid_incap_774904=21pZ54dDRAywotQ9pe6YvRXWSVkAAAAAQUIPAAAAAAAFboXme6JrQCmWOpiqwj9x; _ga=GA1.2.103490423.1498011155; incap_ses_544_774904=tAktPpgtSTpCA78Jcq2MB1QjWFkAAAAAVH3+n1N+y4o1uAb565e2+Q==; incap_ses_622_774904=fqVfOdbnCngkBHJK5cmhCN+JWVkAAAAA+zrHd4n1VxyhjDGibdYy0w==; _gid=GA1.2.528190469.1499040223; _gat=1 _gat_subdomainTracker=1\" -H \"Connection: keep-alive\" -H \"Pragma: no-cache\" -H \"Cache-Control: no-cache\" > who_aerial_2015+16.json'''\n",
    "curl += ''' && curl \"https://www.whoscored.com/StatisticsFeed/1/GetPlayerStatistics?category=summary&subcategory=all&statsAccumulationType=0&isCurrent=true&stageId=9155&tournamentOptions=2&sortBy=aerialWonPerGame&sortAscending=false&field=Overall&isMinApp=true&page=1&numberOfPlayersToPick=294\" -H \"Host: www.whoscored.com\" -H \"User-Agent: Mozilla/5.0 (Windows NT 10.0; WOW64; rv:54.0) Gecko/20100101 Firefox/54.0\" -H \"Accept: application/json, text/javascript, */*; q=0.01\" -H \"Accept-Language: en-US,en;q=0.5\" --compressed -H \"Model-last-Mode: U0gfUFrL4wr/GKJ+mTWHig9vW7a9X/yYtIRqvBIwiEM=\" -H \"X-Requested-With: XMLHttpRequest\" -H \"Referer: https://www.whoscored.com/Regions/252/Tournaments/2/Seasons/4311/Stages/9155/PlayerStatistics/England-Premier-League-2014-2015\" -H \"Cookie: visid_incap_774904=21pZ54dDRAywotQ9pe6YvRXWSVkAAAAAQUIPAAAAAAAFboXme6JrQCmWOpiqwj9x; _ga=GA1.2.103490423.1498011155; incap_ses_544_774904=tAktPpgtSTpCA78Jcq2MB1QjWFkAAAAAVH3+n1N+y4o1uAb565e2+Q==; incap_ses_622_774904=fqVfOdbnCngkBHJK5cmhCN+JWVkAAAAA+zrHd4n1VxyhjDGibdYy0w==; _gid=GA1.2.528190469.1499040223; _gat=1; _gat_subdomainTracker=1\" -H \"Connection: keep-alive\" -H \"Pragma: no-cache\" -H \"Cache-Control: no-cache\" > who_aerial_2014+15.json '''\n",
    "curl += ''' && curl \"https://www.whoscored.com/StatisticsFeed/1/GetPlayerStatistics?category=summary&subcategory=all&statsAccumulationType=0&isCurrent=true&stageId=7794&tournamentOptions=2&sortBy=aerialWonPerGame&sortAscending=false&field=Overall&isMinApp=true&page=1&numberOfPlayersToPick=292\" -H \"Host: www.whoscored.com\" -H \"User-Agent: Mozilla/5.0 (Windows NT 10.0; WOW64; rv:54.0) Gecko/20100101 Firefox/54.0\" -H \"Accept: application/json, text/javascript, */*; q=0.01\" -H \"Accept-Language: en-US,en;q=0.5\" --compressed -H \"Model-last-Mode: 2lVi3AZ/1S1TKnp4+mEv8aNhFD9KNkcnyrRaRIVx8L4=\" -H \"X-Requested-With: XMLHttpRequest\" -H \"Referer: https://www.whoscored.com/Regions/252/Tournaments/2/Seasons/3853/Stages/7794/PlayerStatistics/England-Premier-League-2013-2014\" -H \"Cookie: visid_incap_774904=21pZ54dDRAywotQ9pe6YvRXWSVkAAAAAQUIPAAAAAAAFboXme6JrQCmWOpiqwj9x; _ga=GA1.2.103490423.1498011155; incap_ses_544_774904=tAktPpgtSTpCA78Jcq2MB1QjWFkAAAAAVH3+n1N+y4o1uAb565e2+Q==; incap_ses_622_774904=fqVfOdbnCngkBHJK5cmhCN+JWVkAAAAA+zrHd4n1VxyhjDGibdYy0w==; _gid=GA1.2.528190469.1499040223; _gat=1; _gat_subdomainTracker=1\" -H \"Connection: keep-alive\" -H \"Pragma: no-cache\" -H \"Cache-Control: no-cache\" > who_aerial_2013+14.json'''\n",
    "curl += ''' && curl \"https://www.whoscored.com/StatisticsFeed/1/GetPlayerStatistics?category=summary&subcategory=all&statsAccumulationType=0&isCurrent=true&stageId=6531&tournamentOptions=2&sortBy=aerialWonPerGame&sortAscending=false&field=Overall&isMinApp=true&page=1&numberOfPlayersToPick=290\" -H \"Host: www.whoscored.com\" -H \"User-Agent: Mozilla/5.0 (Windows NT 10.0; WOW64; rv:54.0) Gecko/20100101 Firefox/54.0\" -H \"Accept: application/json, text/javascript, */*; q=0.01\" -H \"Accept-Language: en-US,en;q=0.5\" --compressed -H \"Model-last-Mode: Qn7zz079cfUiBlLvn0cbyYlN289PW9/cG3NYnRlf5+0=\" -H \"X-Requested-With: XMLHttpRequest\" -H \"Referer: https://www.whoscored.com/Regions/252/Tournaments/2/Seasons/3389/Stages/6531/PlayerStatistics/England-Premier-League-2012-2013\" -H \"Cookie: visid_incap_774904=21pZ54dDRAywotQ9pe6YvRXWSVkAAAAAQUIPAAAAAAAFboXme6JrQCmWOpiqwj9x; _ga=GA1.2.103490423.1498011155; incap_ses_544_774904=tAktPpgtSTpCA78Jcq2MB1QjWFkAAAAAVH3+n1N+y4o1uAb565e2+Q==; incap_ses_622_774904=fqVfOdbnCngkBHJK5cmhCN+JWVkAAAAA+zrHd4n1VxyhjDGibdYy0w==; _gid=GA1.2.528190469.1499040223; _gat=1; _gat_subdomainTracker=1\" -H \"Connection: keep-alive\" -H \"Pragma: no-cache\" -H \"Cache-Control: no-cache\" > who_aerial_2012+13.json'''\n",
    "file = 'whoscored_aerial.sh'\n",
    "\n",
    "with open(\"Data/Advanced_stats/%s\" % file, \"w\") as text_file:\n",
    "    text_file.write(curl)\n",
    "\n"
   ]
  },
  {
   "cell_type": "markdown",
   "metadata": {},
   "source": [
    "Chmod 755 whoscored_aerial.sh && ./whoscored_aerial.sh"
   ]
  },
  {
   "cell_type": "code",
   "execution_count": 76,
   "metadata": {
    "collapsed": false
   },
   "outputs": [],
   "source": [
    "import json\n",
    "years = [\"2012/13\", \"2013/14\", \"2014/15\", \"2015/16\", \"2016/17\"]\n",
    "for year in years:\n",
    "    file = \"Data/Advanced_stats/who_aerial_\" + (year[:4] + \"+\" + year[5:] + '.json')\n",
    "    with open(file, 'r', encoding=\"utf8\") as stat_file:\n",
    "        stat_data = json.load(stat_file)  \n",
    "    names = {}\n",
    "    for i, player in enumerate(stat_data[\"playerTableStats\"]):\n",
    "        name = player[\"name\"]\n",
    "        if name not in names:\n",
    "            names.update({name: [i]})\n",
    "        else:\n",
    "            names[name].append(i)\n",
    "    stat_data[\"names\"] = names\n",
    "    with open(file, 'w', encoding=\"utf8\") as json_data:\n",
    "        json.dump(stat_data, json_data)"
   ]
  },
  {
   "cell_type": "code",
   "execution_count": 10,
   "metadata": {
    "collapsed": false
   },
   "outputs": [
    {
     "name": "stdout",
     "output_type": "stream",
     "text": [
      "1032\n",
      "2383\n"
     ]
    }
   ],
   "source": [
    "stats = [\"aerialWonPerGame\"]\n",
    "\n",
    "hits = 0\n",
    "misses = 0\n",
    "\n",
    "for player in data[\"elements\"]:\n",
    "    for year in years:\n",
    "        if year in years:\n",
    "            file = \"Data/Advanced_Stats/who_aerial_\" + (year[:4] + \"+\" + year[5:] + \".json\")\n",
    "            with open(file, 'r') as stat_file:\n",
    "                stat_data = json.load(stat_file)  \n",
    "            for stat in stats:                 \n",
    "                ##Petr crouch\n",
    "                ##\"content[0]\":\"owner\":\"altIds\": {\"opta\": \"p3773\"\n",
    "                #data[elements][335][code]\n",
    "                by_web = stat_data[\"names\"].get(player[\"web_name\"])\n",
    "                by_name = stat_data[\"names\"].get(player[\"name\"])\n",
    "                if by_name is not None:\n",
    "                    index = by_name[0]\n",
    "                    hits += 1\n",
    "                    player[\"history\"][year][stat] = stat_data[\"playerTableStats\"][index][stat]\n",
    "                    player[\"history\"][year][\"age\"] = stat_data[\"playerTableStats\"][index][\"age\"]\n",
    "                    player[\"history\"][year][stat[:-7]+\"_total\"] = stat_data[\"playerTableStats\"][index][stat]*stat_data[\"playerTableStats\"][index][\"apps\"]\n",
    "                elif by_web is not None:\n",
    "                    index = by_web[0]\n",
    "                    hits += 1\n",
    "                    player[\"history\"][year][stat] = stat_data[\"playerTableStats\"][index][stat]\n",
    "                    player[\"history\"][year][\"age\"] = stat_data[\"playerTableStats\"][index][\"age\"]\n",
    "                    player[\"history\"][year][stat[:-7]+\"_total\"] = stat_data[\"playerTableStats\"][index][stat]*stat_data[\"playerTableStats\"][index][\"apps\"]\n",
    "                else: misses+=1\n",
    "print(hits)\n",
    "print(misses)"
   ]
  },
  {
   "cell_type": "markdown",
   "metadata": {},
   "source": [
    "## WhoScored Passing"
   ]
  },
  {
   "cell_type": "code",
   "execution_count": null,
   "metadata": {
    "collapsed": true
   },
   "outputs": [],
   "source": [
    "curl = ''' curl \"https://www.whoscored.com/StatisticsFeed/1/GetPlayerStatistics?category=summary&subcategory=passing&statsAccumulationType=0&isCurrent=true&stageId=13796&tournamentOptions=2&sortBy=Rating&field=Overall&isMinApp=true&numberOfPlayersToPick=284\" -H \"Host: www.whoscored.com\" -H \"User-Agent: Mozilla/5.0 (Windows NT 10.0; WOW64; rv:54.0) Gecko/20100101 Firefox/54.0\" -H \"Accept: application/json, text/javascript, */*; q=0.01\" -H \"Accept-Language: en-US,en;q=0.5\" --compressed -H \"Model-last-Mode: DQ+GowOthGVpG9i4EiwUXj/Xlfwo6iER3QcBMy3xAS8=\" -H \"X-Requested-With: XMLHttpRequest\" -H \"Referer: https://www.whoscored.com/Regions/252/Tournaments/2/Seasons/6335/Stages/13796/PlayerStatistics/England-Premier-League-2016-2017\" -H \"Cookie: visid_incap_774904=21pZ54dDRAywotQ9pe6YvRXWSVkAAAAAQkIPAAAAAACA/Dl9AWFdO8IwnLIAwfmnBjWQL3EUKatL; _ga=GA1.2.103490423.1498011155; _gid=GA1.2.1273350208.1499316271; incap_ses_567_774904=m3WcfcPp2RHOEGp9yWPeBwDFXVkAAAAAfqGduEcpcQezwnLJAIMvmg==; _gat=1; _gat_subdomainTracker=1\" -H \"Connection: keep-alive\" -H \"Pragma: no-cache\" -H \"Cache-Control: no-cache\"> whoscored_passing_2016+17'''\n",
    "curl += ''' && curl \"https://www.whoscored.com/StatisticsFeed/1/GetPlayerStatistics?category=summary&subcategory=all&statsAccumulationType=0&isCurrent=true&stageId=12496&tournamentOptions=2&sortBy=Rating&field=Overall&isMinApp=true&numberOfPlayersToPick=298\" -H \"Host: www.whoscored.com\" -H \"User-Agent: Mozilla/5.0 (Windows NT 10.0; WOW64; rv:54.0) Gecko/20100101 Firefox/54.0\" -H \"Accept: application/json, text/javascript, */*; q=0.01\" -H \"Accept-Language: en-US,en;q=0.5\" --compressed -H \"Model-last-Mode: am7WaBD4M3RBh2EKm3F1mvlPXNh7cVj3iu7iUffILkM=\" -H \"X-Requested-With: XMLHttpRequest\" -H \"Referer: https://www.whoscored.com/Regions/252/Tournaments/2/Seasons/5826/Stages/12496/PlayerStatistics/England-Premier-League-2015-2016\" -H \"Cookie: visid_incap_774904=21pZ54dDRAywotQ9pe6YvRXWSVkAAAAAQkIPAAAAAACA/Dl9AWFdO8IwnLIAwfmnBjWQL3EUKatL; _ga=GA1.2.103490423.1498011155; _gid=GA1.2.1273350208.1499316271; incap_ses_567_774904=m3WcfcPp2RHOEGp9yWPeBwDFXVkAAAAAfqGduEcpcQezwnLJAIMvmg==; _gat=1; _gat_subdomainTracker=1\" -H \"Connection: keep-alive\" -H \"Pragma: no-cache\" -H \"Cache-Control: no-cache\" > whoscored_passing_2015+16'''\n",
    "curl += ''' && curl \"https://www.whoscored.com/StatisticsFeed/1/GetPlayerStatistics?category=summary&subcategory=passing&statsAccumulationType=0&isCurrent=true&stageId=9155&tournamentOptions=2&sortBy=Rating&sortAscending=false&field=Overall&isMinApp=true&page=1&numberOfPlayersToPick=296\" -H \"Host: www.whoscored.com\" -H \"User-Agent: Mozilla/5.0 (Windows NT 10.0; WOW64; rv:54.0) Gecko/20100101 Firefox/54.0\" -H \"Accept: application/json, text/javascript, */*; q=0.01\" -H \"Accept-Language: en-US,en;q=0.5\" --compressed -H \"Model-last-Mode: efD0mnwB4CoP/jhiZ3BLV6svRUwohfdPqxh2uxxhyq8=\" -H \"X-Requested-With: XMLHttpRequest\" -H \"Referer: https://www.whoscored.com/Regions/252/Tournaments/2/Seasons/4311/Stages/9155/PlayerStatistics/England-Premier-League-2014-2015\" -H \"Cookie: visid_incap_774904=21pZ54dDRAywotQ9pe6YvRXWSVkAAAAAQkIPAAAAAACA/Dl9AWFdO8IwnLIAwfmnBjWQL3EUKatL; _ga=GA1.2.103490423.1498011155; _gid=GA1.2.1273350208.1499316271; incap_ses_567_774904=m3WcfcPp2RHOEGp9yWPeBwDFXVkAAAAAfqGduEcpcQezwnLJAIMvmg==; _gat=1; _gat_subdomainTracker=1\" -H \"Connection: keep-alive\" -H \"Pragma: no-cache\" -H \"Cache-Control: no-cache\" > whoscored_passing_2014+15'''\n",
    "curl += ''' && curl \"https://www.whoscored.com/StatisticsFeed/1/GetPlayerStatistics?category=summary&subcategory=passing&statsAccumulationType=0&isCurrent=true&stageId=7794&tournamentOptions=2&sortBy=Rating&field=Overall&isMinApp=true&numberOfPlayersToPick=295\" -H \"Host: www.whoscored.com\" -H \"User-Agent: Mozilla/5.0 (Windows NT 10.0; WOW64; rv:54.0) Gecko/20100101 Firefox/54.0\" -H \"Accept: application/json, text/javascript, */*; q=0.01\" -H \"Accept-Language: en-US,en;q=0.5\" --compressed -H \"Model-last-Mode: Q/qRm19Fn2iHhrbfNErUdt9m8KZ3F9v+z1jsImMx3Aw=\" -H \"X-Requested-With: XMLHttpRequest\" -H \"Referer: https://www.whoscored.com/Regions/252/Tournaments/2/Seasons/3853/Stages/7794/PlayerStatistics/England-Premier-League-2013-2014\" -H \"Cookie: visid_incap_774904=21pZ54dDRAywotQ9pe6YvRXWSVkAAAAAQkIPAAAAAACA/Dl9AWFdO8IwnLIAwfmnBjWQL3EUKatL; _ga=GA1.2.103490423.1498011155; _gid=GA1.2.1273350208.1499316271; incap_ses_567_774904=m3WcfcPp2RHOEGp9yWPeBwDFXVkAAAAAfqGduEcpcQezwnLJAIMvmg==; _gat=1; _gat_subdomainTracker=1\" -H \"Connection: keep-alive\" -H \"Pragma: no-cache\" -H \"Cache-Control: no-cache\" > whoscored_passing_2013+14'''\n",
    "curl += ''' && curl \"https://www.whoscored.com/StatisticsFeed/1/GetPlayerStatistics?category=summary&subcategory=passing&statsAccumulationType=0&isCurrent=true&stageId=6531&tournamentOptions=2&sortBy=Rating&field=Overall&isMinApp=true&numberOfPlayersToPick=1000\" -H \"Host: www.whoscored.com\" -H \"User-Agent: Mozilla/5.0 (Windows NT 10.0; WOW64; rv:54.0) Gecko/20100101 Firefox/54.0\" -H \"Accept: application/json, text/javascript, */*; q=0.01\" -H \"Accept-Language: en-US,en;q=0.5\" --compressed -H \"Model-last-Mode: QHzc0ps7B4KeixWmC4Dlb0oEI92CQIr1EJNXi/NsDWM=\" -H \"X-Requested-With: XMLHttpRequest\" -H \"Referer: https://www.whoscored.com/Regions/252/Tournaments/2/Seasons/3389/Stages/6531/PlayerStatistics/England-Premier-League-2012-2013\" -H \"Cookie: visid_incap_774904=21pZ54dDRAywotQ9pe6YvRXWSVkAAAAAQkIPAAAAAACA/Dl9AWFdO8IwnLIAwfmnBjWQL3EUKatL; _ga=GA1.2.103490423.1498011155; _gid=GA1.2.1273350208.1499316271; incap_ses_567_774904=m3WcfcPp2RHOEGp9yWPeBwDFXVkAAAAAfqGduEcpcQezwnLJAIMvmg==; _gat=1; _gat_subdomainTracker=1\" -H \"Connection: keep-alive\" -H \"Pragma: no-cache\" -H \"Cache-Control: no-cache\" > whoscored_passing_2012+13'''\n",
    "\n",
    "file = 'whoscored_passing.sh'\n",
    "\n",
    "with open(\"Data/Advanced_stats/%s\" % file, \"w\") as text_file:\n",
    "        text_file.write(curl)"
   ]
  },
  {
   "cell_type": "code",
   "execution_count": 62,
   "metadata": {
    "collapsed": false
   },
   "outputs": [],
   "source": [
    "import json\n",
    "years = [\"2012/13\", \"2013/14\", \"2014/15\", \"2015/16\", \"2016/17\"]\n",
    "for year in years:\n",
    "    file = \"Data/Advanced_stats/whoscored_passing_\" + (year[:4] + \"+\" + year[5:] + '.json')\n",
    "    with open(file, 'r', encoding=\"utf8\") as stat_file:\n",
    "        stat_data = json.load(stat_file)  \n",
    "    names = {}\n",
    "    for i, player in enumerate(stat_data[\"playerTableStats\"]):\n",
    "        name = player[\"name\"]\n",
    "        if name not in names:\n",
    "            names.update({name: [i]})\n",
    "        else:\n",
    "            names[name].append(i)\n",
    "    stat_data[\"names\"] = names\n",
    "    with open(file, 'w', encoding=\"utf8\") as json_data:\n",
    "        json.dump(stat_data, json_data)"
   ]
  },
  {
   "cell_type": "code",
   "execution_count": 142,
   "metadata": {
    "collapsed": false
   },
   "outputs": [
    {
     "name": "stdout",
     "output_type": "stream",
     "text": [
      "2070\n",
      "4760\n"
     ]
    }
   ],
   "source": [
    "stats = [\"apps\", \"accurateCrossesPerGame\"]\n",
    "\n",
    "hits = 0\n",
    "misses = 0\n",
    "\n",
    "for player in data[\"elements\"]:\n",
    "    for year in years:\n",
    "        if year in years:\n",
    "            file = \"Data/Advanced_Stats/whoscored_passing\" + \"_\" + (year[:4] + \"+\" + year[5:] + \".json\")\n",
    "            with open(file, 'r') as stat_file:\n",
    "                stat_data = json.load(stat_file)  \n",
    "            for stat in stats:                 \n",
    "                ##Petr crouch\n",
    "                ##\"content[0]\":\"owner\":\"altIds\": {\"opta\": \"p3773\"\n",
    "                #data[elements][335][code]\n",
    "                by_web = stat_data[\"names\"].get(player[\"web_name\"])\n",
    "                by_name = stat_data[\"names\"].get(player[\"name\"])\n",
    "                if by_name is not None:\n",
    "                    index = by_name[0]\n",
    "                    hits += 1\n",
    "                    player[\"history\"][year][stat] = stat_data[\"playerTableStats\"][index][stat]\n",
    "                    if stat !=\"apps\":\n",
    "                        player[\"history\"][year][stat[:-7]+\"_total\"] = stat_data[\"playerTableStats\"][index][stat]*stat_data[\"playerTableStats\"][index][\"apps\"]\n",
    "                elif by_web is not None:\n",
    "                    index = by_web[0]\n",
    "                    hits += 1\n",
    "                    player[\"history\"][year][stat] = stat_data[\"playerTableStats\"][index][stat]\n",
    "                    if stat !=\"apps\":\n",
    "                        player[\"history\"][year][stat[:-7]+\"_total\"] = stat_data[\"playerTableStats\"][index][stat]*stat_data[\"playerTableStats\"][index][\"apps\"]\n",
    "                else: misses+=1\n",
    "print(hits)\n",
    "print(misses)"
   ]
  },
  {
   "cell_type": "markdown",
   "metadata": {},
   "source": [
    "## WhoScored Defense"
   ]
  },
  {
   "cell_type": "code",
   "execution_count": null,
   "metadata": {
    "collapsed": true
   },
   "outputs": [],
   "source": [
    "curl = ''' curl \"https://www.whoscored.com/StatisticsFeed/1/GetPlayerStatistics?category=summary&subcategory=defensive&statsAccumulationType=0&isCurrent=true&stageId=13796&tournamentOptions=2&sortBy=Rating&field=Overall&isMinApp=true&numberOfPlayersToPick=300\" -H \"Host: www.whoscored.com\" -H \"User-Agent: Mozilla/5.0 (Windows NT 10.0; WOW64; rv:54.0) Gecko/20100101 Firefox/54.0\" -H \"Accept: application/json, text/javascript, */*; q=0.01\" -H \"Accept-Language: en-US,en;q=0.5\" --compressed -H \"Model-last-Mode: noTBQ8qPv5qLwO9r4MGQk9ZS2tOcvnjfo0Qj3dbLNb0=\" -H \"X-Requested-With: XMLHttpRequest\" -H \"Referer: https://www.whoscored.com/Regions/252/Tournaments/2/Seasons/6335/Stages/13796/PlayerStatistics/England-Premier-League-2016-2017\" -H \"Cookie: visid_incap_774904=21pZ54dDRAywotQ9pe6YvRXWSVkAAAAAQkIPAAAAAACA/Dl9AWFdO8IwnLIAwfmnBjWQL3EUKatL; _ga=GA1.2.103490423.1498011155; _gid=GA1.2.1273350208.1499316271; incap_ses_567_774904=m3WcfcPp2RHOEGp9yWPeBwDFXVkAAAAAfqGduEcpcQezwnLJAIMvmg==; _gat=1; _gat_subdomainTracker=1\" -H \"Connection: keep-alive\" -H \"Pragma: no-cache\" -H \"Cache-Control: no-cache\" > whoscored_passing_2016+17'''\n",
    "curl += ''' && curl \"https://www.whoscored.com/StatisticsFeed/1/GetPlayerStatistics?category=summary&subcategory=offensive&statsAccumulationType=0&isCurrent=true&stageId=12496&tournamentOptions=2&sortBy=Rating&field=Overall&isMinApp=true&numberOfPlayersToPick=298\" -H \"Host: www.whoscored.com\" -H \"User-Agent: Mozilla/5.0 (Windows NT 10.0; WOW64; rv:54.0) Gecko/20100101 Firefox/54.0\" -H \"Accept: application/json, text/javascript, */*; q=0.01\" -H \"Accept-Language: en-US,en;q=0.5\" --compressed -H \"Model-last-Mode: am7WaBD4M3RBh2EKm3F1mvlPXNh7cVj3iu7iUffILkM=\" -H \"X-Requested-With: XMLHttpRequest\" -H \"Referer: https://www.whoscored.com/Regions/252/Tournaments/2/Seasons/5826/Stages/12496/PlayerStatistics/England-Premier-League-2015-2016\" -H \"Cookie: visid_incap_774904=21pZ54dDRAywotQ9pe6YvRXWSVkAAAAAQkIPAAAAAACA/Dl9AWFdO8IwnLIAwfmnBjWQL3EUKatL; _ga=GA1.2.103490423.1498011155; _gid=GA1.2.1273350208.1499316271; incap_ses_567_774904=m3WcfcPp2RHOEGp9yWPeBwDFXVkAAAAAfqGduEcpcQezwnLJAIMvmg==\" -H \"Connection: keep-alive\" -H \"Pragma: no-cache\" -H \"Cache-Control: no-cache\"  > whoscored_passing_2015+16'''\n",
    "curl += ''' && curl \"https://www.whoscored.com/StatisticsFeed/1/GetPlayerStatistics?category=summary&subcategory=defensive&statsAccumulationType=0&isCurrent=true&stageId=9155&tournamentOptions=2&sortBy=Rating&field=Overall&isMinApp=true&numberOfPlayersToPick=300\" -H \"Host: www.whoscored.com\" -H \"User-Agent: Mozilla/5.0 (Windows NT 10.0; WOW64; rv:54.0) Gecko/20100101 Firefox/54.0\" -H \"Accept: application/json, text/javascript, */*; q=0.01\" -H \"Accept-Language: en-US,en;q=0.5\" --compressed -H \"Model-last-Mode: q4ZczO3n47NJV6qarWoVw2KZRI+e2oQ3Wu6HiCYuUaU=\" -H \"X-Requested-With: XMLHttpRequest\" -H \"Referer: https://www.whoscored.com/Regions/252/Tournaments/2/Seasons/4311/Stages/9155/PlayerStatistics/England-Premier-League-2014-2015\" -H \"Cookie: visid_incap_774904=21pZ54dDRAywotQ9pe6YvRXWSVkAAAAAQkIPAAAAAACA/Dl9AWFdO8IwnLIAwfmnBjWQL3EUKatL; _ga=GA1.2.103490423.1498011155; _gid=GA1.2.1273350208.1499316271; incap_ses_567_774904=m3WcfcPp2RHOEGp9yWPeBwDFXVkAAAAAfqGduEcpcQezwnLJAIMvmg==; _gat=1; _gat_subdomainTracker=1\" -H \"Connection: keep-alive\" -H \"Pragma: no-cache\" -H \"Cache-Control: no-cache\" > whoscored_passing_2014+15'''\n",
    "curl += ''' && curl \"https://www.whoscored.com/StatisticsFeed/1/GetPlayerStatistics?category=summary&subcategory=defensive&statsAccumulationType=0&isCurrent=true&stageId=7794&tournamentOptions=2&sortBy=Rating&field=Overall&isMinApp=true&numberOfPlayersToPick=295\" -H \"Host: www.whoscored.com\" -H \"User-Agent: Mozilla/5.0 (Windows NT 10.0; WOW64; rv:54.0) Gecko/20100101 Firefox/54.0\" -H \"Accept: application/json, text/javascript, */*; q=0.01\" -H \"Accept-Language: en-US,en;q=0.5\" --compressed -H \"Model-last-Mode: Q/qRm19Fn2iHhrbfNErUdt9m8KZ3F9v+z1jsImMx3Aw=\" -H \"X-Requested-With: XMLHttpRequest\" -H \"Referer: https://www.whoscored.com/Regions/252/Tournaments/2/Seasons/3853/Stages/7794/PlayerStatistics/England-Premier-League-2013-2014\" -H \"Cookie: visid_incap_774904=21pZ54dDRAywotQ9pe6YvRXWSVkAAAAAQkIPAAAAAACA/Dl9AWFdO8IwnLIAwfmnBjWQL3EUKatL; _ga=GA1.2.103490423.1498011155; _gid=GA1.2.1273350208.1499316271; incap_ses_567_774904=m3WcfcPp2RHOEGp9yWPeBwDFXVkAAAAAfqGduEcpcQezwnLJAIMvmg==\" -H \"Connection: keep-alive\" -H \"Pragma: no-cache\" -H \"Cache-Control: no-cache\" > whoscored_passing_2013+14'''\n",
    "curl += ''' && curl \"https://www.whoscored.com/StatisticsFeed/1/GetPlayerStatistics?category=summary&subcategory=defensive&statsAccumulationType=0&isCurrent=true&stageId=6531&tournamentOptions=2&sortBy=Rating&field=Overall&isMinApp=true&numberOfPlayersToPick=300\" -H \"Host: www.whoscored.com\" -H \"User-Agent: Mozilla/5.0 (Windows NT 10.0; WOW64; rv:54.0) Gecko/20100101 Firefox/54.0\" -H \"Accept: application/json, text/javascript, */*; q=0.01\" -H \"Accept-Language: en-US,en;q=0.5\" --compressed -H \"Model-last-Mode: QHzc0ps7B4KeixWmC4Dlb0oEI92CQIr1EJNXi/NsDWM=\" -H \"X-Requested-With: XMLHttpRequest\" -H \"Referer: https://www.whoscored.com/Regions/252/Tournaments/2/Seasons/3389/Stages/6531/PlayerStatistics/England-Premier-League-2012-2013\" -H \"Cookie: visid_incap_774904=21pZ54dDRAywotQ9pe6YvRXWSVkAAAAAQkIPAAAAAACA/Dl9AWFdO8IwnLIAwfmnBjWQL3EUKatL; _ga=GA1.2.103490423.1498011155; _gid=GA1.2.1273350208.1499316271; incap_ses_567_774904=m3WcfcPp2RHOEGp9yWPeBwDFXVkAAAAAfqGduEcpcQezwnLJAIMvmg==\" -H \"Connection: keep-alive\" -H \"Pragma: no-cache\" -H \"Cache-Control: no-cache\" > whoscored_passing_2012+13'''\n",
    "\n",
    "file = 'whoscored_defense.sh'\n",
    "\n",
    "with open(\"Data/Advanced_stats/%s\" % file, \"w\") as text_file:\n",
    "        text_file.write(curl)"
   ]
  },
  {
   "cell_type": "code",
   "execution_count": 68,
   "metadata": {
    "collapsed": true
   },
   "outputs": [],
   "source": [
    "import json\n",
    "years = [\"2012/13\", \"2013/14\", \"2014/15\", \"2015/16\", \"2016/17\"]\n",
    "for year in years:\n",
    "    file = \"Data/Advanced_stats/whoscored_defense_\" + (year[:4] + \"+\" + year[5:] + '.json')\n",
    "    with open(file, 'r', encoding=\"utf8\") as stat_file:\n",
    "        stat_data = json.load(stat_file)  \n",
    "    names = {}\n",
    "    for i, player in enumerate(stat_data[\"playerTableStats\"]):\n",
    "        name = player[\"name\"]\n",
    "        if name not in names:\n",
    "            names.update({name: [i]})\n",
    "        else:\n",
    "            names[name].append(i)\n",
    "    stat_data[\"names\"] = names\n",
    "    with open(file, 'w', encoding=\"utf8\") as json_data:\n",
    "        json.dump(stat_data, json_data)"
   ]
  },
  {
   "cell_type": "code",
   "execution_count": 143,
   "metadata": {
    "collapsed": false
   },
   "outputs": [
    {
     "name": "stdout",
     "output_type": "stream",
     "text": [
      "4140\n",
      "9520\n"
     ]
    }
   ],
   "source": [
    "stats = [\"tacklePerGame\", \"interceptionPerGame\", \"clearancePerGame\", \"outfielderBlockPerGame\"]\n",
    "\n",
    "\n",
    "hits = 0\n",
    "misses = 0\n",
    "\n",
    "for player in data[\"elements\"]:\n",
    "    for year in years:\n",
    "        if year in years:\n",
    "            file = \"Data/Advanced_Stats/whoscored_defense\" + \"_\" + (year[:4] + \"+\" + year[5:] + \".json\")\n",
    "            with open(file, 'r') as stat_file:\n",
    "                stat_data = json.load(stat_file)  \n",
    "            for stat in stats: \n",
    "                ##Petr crouch\n",
    "                ##\"content[0]\":\"owner\":\"altIds\": {\"opta\": \"p3773\"\n",
    "                #data[elements][335][code]\n",
    "                by_web = stat_data[\"names\"].get(player[\"web_name\"])\n",
    "                by_name = stat_data[\"names\"].get(player[\"name\"])\n",
    "                if by_name is not None:\n",
    "                    index = by_name[0]\n",
    "                    hits += 1\n",
    "                    player[\"history\"][year][stat] = stat_data[\"playerTableStats\"][index][stat]\n",
    "                    player[\"history\"][year][stat[:-7]+\"_total\"] = stat_data[\"playerTableStats\"][index][stat]*stat_data[\"playerTableStats\"][index][\"apps\"]\n",
    "                elif by_web is not None:\n",
    "                    index = by_web[0]\n",
    "                    hits += 1\n",
    "                    player[\"history\"][year][stat] = stat_data[\"playerTableStats\"][index][stat]\n",
    "                    player[\"history\"][year][stat[:-7]+\"_total\"] = stat_data[\"playerTableStats\"][index][stat]*stat_data[\"playerTableStats\"][index][\"apps\"]\n",
    "                else: misses+=1\n",
    "print(hits)\n",
    "print(misses)"
   ]
  },
  {
   "cell_type": "code",
   "execution_count": 11,
   "metadata": {
    "collapsed": false
   },
   "outputs": [],
   "source": [
    "with open('Data/advanced_fpl_cleaned_data.json', 'w') as json_data:\n",
    "    json.dump(data, json_data)"
   ]
  },
  {
   "cell_type": "code",
   "execution_count": null,
   "metadata": {
    "collapsed": true
   },
   "outputs": [],
   "source": []
  }
 ],
 "metadata": {
  "kernelspec": {
   "display_name": "Python 3",
   "language": "python",
   "name": "python3"
  },
  "language_info": {
   "codemirror_mode": {
    "name": "ipython",
    "version": 3
   },
   "file_extension": ".py",
   "mimetype": "text/x-python",
   "name": "python",
   "nbconvert_exporter": "python",
   "pygments_lexer": "ipython3",
   "version": "3.5.1"
  }
 },
 "nbformat": 4,
 "nbformat_minor": 0
}
