{
 "cells": [
  {
   "cell_type": "code",
   "execution_count": 2,
   "metadata": {
    "collapsed": false
   },
   "outputs": [],
   "source": [
    "import json\n",
    "import numpy as np\n",
    "import pandas as pd"
   ]
  },
  {
   "cell_type": "code",
   "execution_count": 146,
   "metadata": {
    "collapsed": false
   },
   "outputs": [],
   "source": [
    "def pointsAboveReplacement(file):\n",
    "    with open(file, \"r\") as infile:\n",
    "        data = json.load(infile)\n",
    "    for i, player in enumerate(data):\n",
    "        if i < (len(data)-1):\n",
    "            data[i].update({\"points_above_replacement\": player[\"togga_score\"] - data[i+1][\"togga_score\"]})   \n",
    "    with open(file, 'w') as json_data:\n",
    "        json.dump(data, json_data)\n",
    "\n",
    "for position in ['goalies', 'defense', 'midfield', 'forwards']:\n",
    "    for year in ['2012/13', '2013/14', '2014/15', '2015/16', '2016/17']:\n",
    "        file = 'Data/Sorted_Positions/sorted_%s_%s+%s.json' % (position, year[:4], year[-2:])\n",
    "        pointsAboveReplacement(file)\n",
    "\n"
   ]
  },
  {
   "cell_type": "code",
   "execution_count": 112,
   "metadata": {
    "collapsed": false
   },
   "outputs": [],
   "source": [
    "with open(file, \"r\") as infile:\n",
    "        data = json.load(infile)\n",
    "\n",
    "points_above = np.array([(x[\"name\"], x[\"points_above_replacement\"]) for x in data[:-1]])\n",
    "#print(points_above)\n"
   ]
  },
  {
   "cell_type": "code",
   "execution_count": 147,
   "metadata": {
    "collapsed": false
   },
   "outputs": [],
   "source": [
    "# Removed ontarget_scoring_att\n",
    "relevant_forward_keys = ['togga_score', 'apps', 'tackle_total', 'yellow_cards', 'dispossessed_total', 'red_cards', \n",
    "                         'minutes', 'successful_dribbles', 'own_goals', 'interception_total', \n",
    "                         'goals_scored', 'key_passes', 'accurateCrosses_total', 'aerialWon_total', 'assists', \n",
    "                         'points_above_replacement', 'name', 'age']\n",
    "\n",
    "relevant_midfield_keys = ['togga_score', 'apps', 'tackle_total', 'yellow_cards', 'dispossessed_total', 'red_cards', \n",
    "                          'minutes', 'successful_dribbles', 'own_goals', 'interception_total', \n",
    "                          'goals_scored', 'key_passes', 'accurateCrosses_total', 'clean_sheets', 'aerialWon_total', \n",
    "                          'assists', 'points_above_replacement', 'name', 'age']\n",
    "\n",
    "relevant_defense_keys = ['goals_conceded', 'togga_score', 'apps', 'tackle_total', 'yellow_cards', 'dispossessed_total',\n",
    "                         'red_cards', 'minutes', 'successful_dribbles', 'own_goals', 'name',\n",
    "                         'interception_total', 'goals_scored', 'key_passes', 'accurateCrosses_total', 'clean_sheets', \n",
    "                         'aerialWon_total', 'assists', 'points_above_replacement', 'clearance_total', 'age']\n",
    "\n",
    "relevant_goalie_keys = ['goals_conceded', 'saves', 'togga_score', 'apps', 'tackle_total', 'yellow_cards', 'red_cards', \n",
    "                        'minutes', 'own_goals', 'interception_total', 'key_passes', 'clean_sheets', 'aerialWon_total', \n",
    "                        'penalties_saved', 'points_above_replacement', 'name', 'clearance_total', 'age']\n",
    "\n",
    "def removeExtraStats(file, relevant_keys):\n",
    "    with open(file, \"r\") as infile:\n",
    "        data = json.load(infile)\n",
    "    new_data = []\n",
    "    for i in range(len(data)):\n",
    "        values = [{key: data[i].get(key)} for key in relevant_keys]\n",
    "        item = dict(pair for d in values for pair in d.items())\n",
    "        new_data.append(item)\n",
    "    with open(file, 'w') as json_data:\n",
    "        json.dump(new_data, json_data)\n",
    "        \n",
    "for position in ['goalies', 'defense', 'midfield', 'forwards']:\n",
    "    for year in ['2012/13', '2013/14', '2014/15', '2015/16', '2016/17']:\n",
    "        file = 'Data/Sorted_Positions/sorted_%s_%s+%s.json' % (position, year[:4], year[-2:])\n",
    "        if position == 'goalies':\n",
    "            keys = relevant_goalie_keys\n",
    "        elif position == 'defense':\n",
    "            keys = relevant_defense_keys\n",
    "        elif position == 'midfield':\n",
    "            keys = relevant_midfield_keys\n",
    "        else:\n",
    "            keys = relevant_forward_keys\n",
    "        removeExtraStats(file, keys)"
   ]
  },
  {
   "cell_type": "code",
   "execution_count": 158,
   "metadata": {
    "collapsed": false
   },
   "outputs": [],
   "source": [
    "with open('Data/Sorted_Positions/sorted_forwards_2016+17.json', \"r\") as infile:\n",
    "    data = json.load(infile)\n",
    "df = pd.DataFrame(data)\n",
    "df = df.dropna(axis=1,how='all')\n",
    "df = df.dropna(axis=0,how='any')\n",
    "\n",
    "#df has 41 entries"
   ]
  },
  {
   "cell_type": "code",
   "execution_count": 160,
   "metadata": {
    "collapsed": false
   },
   "outputs": [],
   "source": [
    "#df"
   ]
  },
  {
   "cell_type": "code",
   "execution_count": 155,
   "metadata": {
    "collapsed": true
   },
   "outputs": [],
   "source": [
    "with open('Data/Sorted_Positions/sorted_midfield_2016+17.json', \"r\") as infile:\n",
    "    data = json.load(infile)\n",
    "df = pd.DataFrame(data)\n",
    "df = df.dropna(axis=1,how='all')\n",
    "df = df.dropna(axis=0,how='any')\n",
    "\n",
    "#df has 129 entries"
   ]
  },
  {
   "cell_type": "code",
   "execution_count": 157,
   "metadata": {
    "collapsed": false
   },
   "outputs": [],
   "source": [
    "#df"
   ]
  },
  {
   "cell_type": "code",
   "execution_count": 150,
   "metadata": {
    "collapsed": true
   },
   "outputs": [],
   "source": [
    "with open('Data/Sorted_Positions/sorted_defense_2016+17.json', \"r\") as infile:\n",
    "    data = json.load(infile)\n",
    "df = pd.DataFrame(data)\n",
    "df = df.dropna(axis=1,how='all')\n",
    "df = df.dropna(axis=0,how='any')\n",
    "\n",
    "#df has 86 entries"
   ]
  },
  {
   "cell_type": "code",
   "execution_count": 152,
   "metadata": {
    "collapsed": false
   },
   "outputs": [],
   "source": [
    "#df"
   ]
  },
  {
   "cell_type": "code",
   "execution_count": null,
   "metadata": {
    "collapsed": true
   },
   "outputs": [],
   "source": []
  }
 ],
 "metadata": {
  "kernelspec": {
   "display_name": "Python 3",
   "language": "python",
   "name": "python3"
  },
  "language_info": {
   "codemirror_mode": {
    "name": "ipython",
    "version": 3
   },
   "file_extension": ".py",
   "mimetype": "text/x-python",
   "name": "python",
   "nbconvert_exporter": "python",
   "pygments_lexer": "ipython3",
   "version": "3.5.1"
  }
 },
 "nbformat": 4,
 "nbformat_minor": 0
}
