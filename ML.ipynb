{
 "cells": [
  {
   "cell_type": "code",
   "execution_count": 3,
   "metadata": {
    "collapsed": false
   },
   "outputs": [],
   "source": [
    "import json\n",
    "import numpy as np\n",
    "import pandas as pd"
   ]
  },
  {
   "cell_type": "code",
   "execution_count": 54,
   "metadata": {
    "collapsed": false
   },
   "outputs": [],
   "source": [
    "with open(\"Data/Sorted_Positions/sorted_midfield_2016+17.json\", \"r\") as infile:\n",
    "            data = json.load(infile)"
   ]
  },
  {
   "cell_type": "code",
   "execution_count": 66,
   "metadata": {
    "collapsed": false
   },
   "outputs": [
    {
     "name": "stdout",
     "output_type": "stream",
     "text": [
      "[['36' '245.0' '-1' ..., '-1' '50.0' '-1']\n",
      " ['38' '304.0' '-1' ..., '2' '41.0' '-1']\n",
      " ['38' '-1' '-1' ..., '6' '128.0' '-1']\n",
      " ..., \n",
      " ['-1' '-1' '-1' ..., '4' '-1' '-1']\n",
      " ['-1' '-1' '-1' ..., '563.0' '19.0' '-1']\n",
      " ['-1' '-1' '-1' ..., '5' '-1' '-1']]\n"
     ]
    }
   ],
   "source": [
    "keys = data[0].keys()\n",
    "for player in data:\n",
    "    for key in keys:\n",
    "        if not player.get(key):\n",
    "            player.update({key:-1})\n",
    "\n",
    "a = np.array([list(data[0].values())])\n",
    "for i in range(1,len(data)):\n",
    "    b = np.array([list(data[i].values())])\n",
    "    a = np.vstack((a, b))\n",
    "\n",
    "print(a)\n",
    "\n",
    "\n"
   ]
  },
  {
   "cell_type": "code",
   "execution_count": null,
   "metadata": {
    "collapsed": true
   },
   "outputs": [],
   "source": []
  }
 ],
 "metadata": {
  "kernelspec": {
   "display_name": "Python 3",
   "language": "python",
   "name": "python3"
  },
  "language_info": {
   "codemirror_mode": {
    "name": "ipython",
    "version": 3
   },
   "file_extension": ".py",
   "mimetype": "text/x-python",
   "name": "python",
   "nbconvert_exporter": "python",
   "pygments_lexer": "ipython3",
   "version": "3.5.1"
  }
 },
 "nbformat": 4,
 "nbformat_minor": 0
}
