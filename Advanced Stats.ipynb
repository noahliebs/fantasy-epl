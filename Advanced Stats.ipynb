{
 "cells": [
  {
   "cell_type": "code",
   "execution_count": 57,
   "metadata": {
    "collapsed": true
   },
   "outputs": [],
   "source": [
    "import json\n",
    "import numpy\n",
    "import pandas"
   ]
  },
  {
   "cell_type": "code",
   "execution_count": 18,
   "metadata": {
    "collapsed": true
   },
   "outputs": [],
   "source": [
    "stats = {\"total_offside\": [70,80,80,80,100] , \"total_pass\":[300,60,100,100,200], \"total_tackle\":[300,150,200,200,300],\n",
    "         \"dispossessed\":[200,200,200,200,200], \"interception\":[100,100,100,100,100],\"aerial_won\":[200,20,75,75,200],\n",
    "         \"total_cross\":[50,200,200,200,200], \"corner_taken\":[20,200,200,200,200], \n",
    "         \"total_through_ball\":[200,200,200,200,200], \"total_clearance\":[100,20,75,20,200],\n",
    "         \"fouls\":[200,300,300,200,300], \"ontarget_scoring_att\":[100,100,100,100,100]}"
   ]
  },
  {
   "cell_type": "code",
   "execution_count": 19,
   "metadata": {
    "collapsed": false
   },
   "outputs": [],
   "source": [
    "final_command=\"\"\n",
    "for stat in stats:\n",
    "    curl = '''curl \"https://footballapi.pulselive.com/football/stats/ranked/players/%s?page=0&pageSize=%s&compSeasons=54&comps=1&compCodeForActivePlayer=EN_PR&altIds=true\" -H \"Host: footballapi.pulselive.com\" -H \"User-Agent: Mozilla/5.0 (Windows NT 10.0; WOW64; rv:54.0) Gecko/20100101 Firefox/54.0\" -H \"Accept: */*\" -H \"Accept-Language: en-US,en;q=0.5\" --compressed -H \"Content-Type: application/x-www-form-urlencoded; charset=UTF-8\" -H \"Referer: https://www.premierleague.com/stats/top/players/%s\" -H \"Origin: https://www.premierleague.com\" -H \"Connection: keep-alive\" -H \"If-None-Match: W/\"\"0b7bac1f6336825436947123705ebd172\"\"\" > %s_2016+17.json''' % (stat, stats[stat][0], stat, stat)\n",
    "    curl += ''' && curl \"https://footballapi.pulselive.com/football/stats/ranked/players/%s?page=0&pageSize=%s&compSeasons=42&comps=1&compCodeForActivePlayer=EN_PR&altIds=true\" -H \"Host: footballapi.pulselive.com\" -H \"User-Agent: Mozilla/5.0 (Windows NT 10.0; WOW64; rv:54.0) Gecko/20100101 Firefox/54.0\" -H \"Accept: */*\" -H \"Accept-Language: en-US,en;q=0.5\" --compressed -H \"Content-Type: application/x-www-form-urlencoded; charset=UTF-8\" -H \"Referer: https://www.premierleague.com/stats/top/players/%s\" -H \"Origin: https://www.premierleague.com\" -H \"Connection: keep-alive\" -H \"If-None-Match: W/\"\"0b7bac1f6336825436947123705ebd172\"\"\" > %s_2015+16.json''' % (stat, stats[stat][1], stat, stat)\n",
    "    curl += ''' && curl \"https://footballapi.pulselive.com/football/stats/ranked/players/%s?page=0&pageSize=%s&compSeasons=27&comps=1&compCodeForActivePlayer=EN_PR&altIds=true\" -H \"Host: footballapi.pulselive.com\" -H \"User-Agent: Mozilla/5.0 (Windows NT 10.0; WOW64; rv:54.0) Gecko/20100101 Firefox/54.0\" -H \"Accept: */*\" -H \"Accept-Language: en-US,en;q=0.5\" --compressed -H \"Content-Type: application/x-www-form-urlencoded; charset=UTF-8\" -H \"Referer: https://www.premierleague.com/stats/top/players/%s\" -H \"Origin: https://www.premierleague.com\" -H \"Connection: keep-alive\" -H \"If-None-Match: W/\"\"0b7bac1f6336825436947123705ebd172\"\"\" > %s_2014+15.json''' % (stat, stats[stat][2], stat, stat)\n",
    "    curl += ''' && curl \"https://footballapi.pulselive.com/football/stats/ranked/players/%s?page=0&pageSize=%s&compSeasons=22&comps=1&compCodeForActivePlayer=EN_PR&altIds=true\" -H \"Host: footballapi.pulselive.com\" -H \"User-Agent: Mozilla/5.0 (Windows NT 10.0; WOW64; rv:54.0) Gecko/20100101 Firefox/54.0\" -H \"Accept: */*\" -H \"Accept-Language: en-US,en;q=0.5\" --compressed -H \"Content-Type: application/x-www-form-urlencoded; charset=UTF-8\" -H \"Referer: https://www.premierleague.com/stats/top/players/%s\" -H \"Origin: https://www.premierleague.com\" -H \"Connection: keep-alive\" -H \"If-None-Match: W/\"\"0b7bac1f6336825436947123705ebd172\"\"\" > %s_2013+14.json''' % (stat, stats[stat][3], stat, stat)\n",
    "    curl += ''' && curl \"https://footballapi.pulselive.com/football/stats/ranked/players/%s?page=0&pageSize=%s&compSeasons=21&comps=1&compCodeForActivePlayer=EN_PR&altIds=true\" -H \"Host: footballapi.pulselive.com\" -H \"User-Agent: Mozilla/5.0 (Windows NT 10.0; WOW64; rv:54.0) Gecko/20100101 Firefox/54.0\" -H \"Accept: */*\" -H \"Accept-Language: en-US,en;q=0.5\" --compressed -H \"Content-Type: application/x-www-form-urlencoded; charset=UTF-8\" -H \"Referer: https://www.premierleague.com/stats/top/players/%s\" -H \"Origin: https://www.premierleague.com\" -H \"Connection: keep-alive\" -H \"If-None-Match: W/\"\"0b7bac1f6336825436947123705ebd172\"\"\" > %s_2012+13.json''' % (stat, stats[stat][4], stat, stat)\n",
    "    file = \"%s.sh\" % stat\n",
    "    with open(\"Data/Advanced_stats/%s\" % file, \"w\") as text_file:\n",
    "        text_file.write(curl)\n",
    "    final_command += \" echo %s: &&\" % stat\n",
    "    final_command += \" chmod 755 %s &&\" % file\n",
    "    final_command += \" ./%s &&\" % (file)\n",
    "with open(\"Data/Advanced_stats/load_advanced_stats.sh\", \"w\") as sh_file:\n",
    "        sh_file.write(final_command[1:-2])"
   ]
  },
  {
   "cell_type": "markdown",
   "metadata": {},
   "source": [
    "NOW YOU HAVE TO CHMOD 755 load_advanced_stats.sh AND ./load_advanced_stats.sh"
   ]
  },
  {
   "cell_type": "markdown",
   "metadata": {},
   "source": [
    "Create a list of first and last names for each season and stat to be used later"
   ]
  },
  {
   "cell_type": "code",
   "execution_count": 20,
   "metadata": {
    "collapsed": false
   },
   "outputs": [],
   "source": [
    "years = [\"2012/13\", \"2013/14\", \"2014/15\", \"2015/16\", \"2016/17\"]\n",
    "for year in years:\n",
    "    for stat in stats:\n",
    "        file = \"Data/Advanced_stats/\" + stat + \"_\" + (year[:4] + \"+\" + year[5:] + '.json')\n",
    "        with open(file, 'r', encoding=\"utf8\") as stat_file:\n",
    "            stat_data = json.load(stat_file)  \n",
    "        first_names = {}\n",
    "        last_names = {}\n",
    "        for i, player in enumerate(stat_data[\"stats\"][\"content\"]):\n",
    "            if player[\"owner\"][\"name\"][\"first\"] not in first_names:\n",
    "                first_names.update({player[\"owner\"][\"name\"][\"first\"]: [i]})\n",
    "            else:\n",
    "                first_names[player[\"owner\"][\"name\"][\"first\"]].append(i)\n",
    "            if player[\"owner\"][\"name\"][\"last\"] not in last_names:\n",
    "                last_names.update({player[\"owner\"][\"name\"][\"last\"]: [i]})\n",
    "            else:\n",
    "                last_names[player[\"owner\"][\"name\"][\"last\"]].append(i)\n",
    "            stat_data[\"first_names\"] = first_names\n",
    "            stat_data[\"last_names\"] = last_names\n",
    "        with open(file, 'w', encoding=\"utf8\") as json_data:\n",
    "            json.dump(stat_data, json_data)"
   ]
  },
  {
   "cell_type": "markdown",
   "metadata": {},
   "source": [
    "Load Data"
   ]
  },
  {
   "cell_type": "code",
   "execution_count": 21,
   "metadata": {
    "collapsed": false
   },
   "outputs": [],
   "source": [
    "with open('Data/fpl_cleaned_data.json', 'r') as json_data:\n",
    "    data = json.load(json_data)"
   ]
  },
  {
   "cell_type": "markdown",
   "metadata": {},
   "source": [
    "Add Advanced Statistics to history_past \n",
    "Cross reference players by first and last name"
   ]
  },
  {
   "cell_type": "code",
   "execution_count": 22,
   "metadata": {
    "collapsed": false
   },
   "outputs": [],
   "source": [
    "hits = 0\n",
    "misses = 0\n",
    "\n",
    "for player in data[\"elements\"]:\n",
    "    for year in years:\n",
    "        if year in player[\"history\"][\"history_past\"]:\n",
    "            for stat in stats:\n",
    "                file = \"Data/Advanced_Stats/\" + stat + \"_\" + (year[:4] + \"+\" + year[5:] + \".json\")\n",
    "                with open(file, 'r') as stat_file:\n",
    "                    stat_data = json.load(stat_file)                    \n",
    "                ##Petr crouch\n",
    "                ##\"content[0]\":\"owner\":\"altIds\": {\"opta\": \"p3773\"\n",
    "                #data[elements][335][code]\n",
    "                by_first = stat_data[\"first_names\"].get(player[\"first_name\"])\n",
    "                by_last = stat_data[\"last_names\"].get(player[\"second_name\"])\n",
    "                if by_first is not None and by_last is not None:\n",
    "                    intersection = list(set(by_first).intersection(by_last))\n",
    "                    if (len(intersection)>0) :\n",
    "                        hits += 1\n",
    "                        index = intersection[0]\n",
    "                        player[\"history\"][\"history_past\"][year][stat] = stat_data[\"stats\"][\"content\"][index][\"value\"]\n",
    "                        if (len(intersection)>1):\n",
    "                            print(\"OMG\\nOMG\\nOMG\\nOMG\\nOMG\\n\")\n",
    "                else: misses+=1\n",
    "#print(hits)\n",
    "#print(misses)"
   ]
  },
  {
   "cell_type": "markdown",
   "metadata": {},
   "source": [
    "Get Data from WhoScored.com"
   ]
  },
  {
   "cell_type": "code",
   "execution_count": 5,
   "metadata": {
    "collapsed": true
   },
   "outputs": [],
   "source": [
    "curl = '''curl \"https://www.whoscored.com/StatisticsFeed/1/GetPlayerStatistics?category=summary&subcategory=offensive&statsAccumulationType=0&isCurrent=true&stageId=13796&tournamentOptions=2&sortBy=Rating&field=Overall&isMinApp=true&numberOfPlayersToPick=284\" -H \"Host: www.whoscored.com\" -H \"User-Agent: Mozilla/5.0 (Windows NT 10.0; WOW64; rv:54.0) Gecko/20100101 Firefox/54.0\" -H \"Accept: application/json, text/javascript, */*; q=0.01\" -H \"Accept-Language: en-US,en;q=0.5\" --compressed -H \"Model-last-Mode: fc2RJ6YyRD54jXlw7c0xtd7e1WIf3xwZ3ReebQZVo08=\" -H \"X-Requested-With: XMLHttpRequest\" -H \"Referer: https://www.whoscored.com/Regions/252/Tournaments/2/Seasons/6335/Stages/13796/PlayerStatistics/England-Premier-League-2016-2017\" -H \"Cookie: visid_incap_774904=21pZ54dDRAywotQ9pe6YvRXWSVkAAAAAQUIPAAAAAAAFboXme6JrQCmWOpiqwj9x; _ga=GA1.2.103490423.1498011155; incap_ses_567_774904=cCHtFjuWAEE7Pud2yWPeB7zIVVkAAAAANPEyQR3gLnHhxrhOpEhIeg==; _gid=GA1.2.624122967.1498794174; _gat=1; _gat_subdomainTracker=1\" -H \"Connection: keep-alive\" -H \"Pragma: no-cache\" -H \"Cache-Control: no-cache\" > whoscored_2016+17'''\n",
    "curl += ''' && curl \"https://www.whoscored.com/StatisticsFeed/1/GetPlayerStatistics?category=summary&subcategory=offensive&statsAccumulationType=0&isCurrent=true&stageId=12496&tournamentOptions=2&sortBy=dribbleWonPerGame&sortAscending=false&field=Overall&isMinApp=true&page=1&numberOfPlayersToPick=283\" -H \"Host: www.whoscored.com\" -H \"User-Agent: Mozilla/5.0 (Windows NT 10.0; WOW64; rv:54.0) Gecko/20100101 Firefox/54.0\" -H \"Accept: application/json, text/javascript, */*; q=0.01\" -H \"Accept-Language: en-US,en;q=0.5\" --compressed -H \"Model-last-Mode: 4okqVGm6xj3gYjsabspko0nXPllQ0He1YHUyy9ilbWc=\" -H \"X-Requested-With: XMLHttpRequest\" -H \"Referer: https://www.whoscored.com/Regions/252/Tournaments/2/Seasons/5826/Stages/12496/PlayerStatistics/England-Premier-League-2015-2016\" -H \"Cookie: visid_incap_774904=21pZ54dDRAywotQ9pe6YvRXWSVkAAAAAQUIPAAAAAAAFboXme6JrQCmWOpiqwj9x; _ga=GA1.2.103490423.1498011155; incap_ses_567_774904=cCHtFjuWAEE7Pud2yWPeB7zIVVkAAAAANPEyQR3gLnHhxrhOpEhIeg==; _gid=GA1.2.624122967.1498794174; _gat=1\" -H \"Connection: keep-alive\" -H \"Pragma: no-cache\" -H \"Cache-Control: no-cache\" > whoscored_2015+16'''\n",
    "curl += ''' && curl \"https://www.whoscored.com/StatisticsFeed/1/GetPlayerStatistics?category=summary&subcategory=offensive&statsAccumulationType=0&isCurrent=true&stageId=9155&tournamentOptions=2&sortBy=Rating&sortAscending=false&field=Overall&isMinApp=true&page=1&numberOfPlayersToPick=296\" -H \"Host: www.whoscored.com\" -H \"User-Agent: Mozilla/5.0 (Windows NT 10.0; WOW64; rv:54.0) Gecko/20100101 Firefox/54.0\" -H \"Accept: application/json, text/javascript, */*; q=0.01\" -H \"Accept-Language: en-US,en;q=0.5\" --compressed -H \"Model-last-Mode: Zu0jZjaZLds52xj+URddoiGv0xphwJ3xqBYzcsKjuuY=\" -H \"X-Requested-With: XMLHttpRequest\" -H \"Referer: https://www.whoscored.com/Regions/252/Tournaments/2/Seasons/4311/Stages/9155/PlayerStatistics/England-Premier-League-2014-2015\" -H \"Cookie: visid_incap_774904=21pZ54dDRAywotQ9pe6YvRXWSVkAAAAAQUIPAAAAAAAFboXme6JrQCmWOpiqwj9x; _ga=GA1.2.103490423.1498011155; incap_ses_567_774904=cCHtFjuWAEE7Pud2yWPeB7zIVVkAAAAANPEyQR3gLnHhxrhOpEhIeg==; _gid=GA1.2.624122967.1498794174; _gat=1\" -H \"Connection: keep-alive\" -H \"Pragma: no-cache\" -H \"Cache-Control: no-cache\" > whoscored_2014+15'''\n",
    "curl += ''' && curl \"https://www.whoscored.com/StatisticsFeed/1/GetPlayerStatistics?category=summary&subcategory=offensive&statsAccumulationType=0&isCurrent=true&stageId=7794&tournamentOptions=2&sortBy=Rating&field=Overall&isMinApp=true&numberOfPlayersToPick=295\" -H \"Host: www.whoscored.com\" -H \"User-Agent: Mozilla/5.0 (Windows NT 10.0; WOW64; rv:54.0) Gecko/20100101 Firefox/54.0\" -H \"Accept: application/json, text/javascript, */*; q=0.01\" -H \"Accept-Language: en-US,en;q=0.5\" --compressed -H \"Model-last-Mode: NuCR1qvcjreBF2K2eTKuRKVFXrRnzYgOPK2IQ4Yn5u8=\" -H \"X-Requested-With: XMLHttpRequest\" -H \"Referer: https://www.whoscored.com/Regions/252/Tournaments/2/Seasons/3853/Stages/7794/PlayerStatistics/England-Premier-League-2013-2014\" -H \"Cookie: visid_incap_774904=21pZ54dDRAywotQ9pe6YvRXWSVkAAAAAQUIPAAAAAAAFboXme6JrQCmWOpiqwj9x; _ga=GA1.2.103490423.1498011155; incap_ses_567_774904=cCHtFjuWAEE7Pud2yWPeB7zIVVkAAAAANPEyQR3gLnHhxrhOpEhIeg==; _gid=GA1.2.624122967.1498794174\" -H \"Connection: keep-alive\" -H \"Pragma: no-cache\" -H \"Cache-Control: no-cache\" > whoscored_2013+14'''\n",
    "curl += ''' && curl \"https://www.whoscored.com/StatisticsFeed/1/GetPlayerStatistics?category=summary&subcategory=offensive&statsAccumulationType=0&isCurrent=true&stageId=6531&tournamentOptions=2&sortBy=Rating&field=Overall&isMinApp=true&numberOfPlayersToPick=291\"-H \"Host: www.whoscored.com\" -H \"User-Agent: Mozilla/5.0 (Windows NT 10.0; WOW64; rv:54.0) Gecko/20100101 Firefox/54.0\" -H \"Accept: application/json, text/javascript, */*; q=0.01\" -H \"Accept-Language: en-US,en;q=0.5\" --compressed -H \"Model-last-Mode: i5SidRC2VsVm9Uo4DONDhSKe+Ho7byh5PEjcKjEQiSk=\" -H \"X-Requested-With: XMLHttpRequest\" -H \"Referer: https://www.whoscored.com/Regions/252/Tournaments/2/Seasons/3389/Stages/6531/PlayerStatistics/England-Premier-League-2012-2013\" -H \"Cookie: visid_incap_774904=21pZ54dDRAywotQ9pe6YvRXWSVkAAAAAQUIPAAAAAAAFboXme6JrQCmWOpiqwj9x; _ga=GA1.2.103490423.1498011155; incap_ses_567_774904=cCHtFjuWAEE7Pud2yWPeB7zIVVkAAAAANPEyQR3gLnHhxrhOpEhIeg==; _gid=GA1.2.624122967.1498794174; _gat=1; _gat_subdomainTracker=1\" -H \"Connection: keep-alive\" -H \"Pragma: no-cache\" -H \"Cache-Control: no-cache\" > whoscored_2012+13'''\n",
    "\n",
    "file = 'whoscored.sh'\n",
    "\n",
    "with open(\"Data/Advanced_stats/%s\" % file, \"w\") as text_file:\n",
    "        text_file.write(curl)"
   ]
  },
  {
   "cell_type": "markdown",
   "metadata": {},
   "source": [
    "You must chmod 755 and ./whoscored.sh!"
   ]
  },
  {
   "cell_type": "code",
   "execution_count": 23,
   "metadata": {
    "collapsed": false
   },
   "outputs": [],
   "source": [
    "import json\n",
    "years = [\"2012/13\", \"2013/14\", \"2014/15\", \"2015/16\", \"2016/17\"]\n",
    "for year in years:\n",
    "    file = \"Data/Advanced_stats/whoscored_\" + (year[:4] + \"+\" + year[5:] + '.json')\n",
    "    with open(file, 'r', encoding=\"utf8\") as stat_file:\n",
    "        stat_data = json.load(stat_file)  \n",
    "    first_names = {}\n",
    "    last_names = {}\n",
    "    for i, player in enumerate(stat_data[\"playerTableStats\"]):\n",
    "        name = player[\"name\"]\n",
    "        first_name = name.split(\" \")[0]\n",
    "        last_name = name.split(\" \")[-1]\n",
    "        if first_name not in first_names:\n",
    "            first_names.update({first_name: [i]})\n",
    "        else:\n",
    "            first_names[first_name].append(i)\n",
    "        if last_name not in last_names:\n",
    "            last_names.update({last_name: [i]})\n",
    "        else:\n",
    "            last_names[last_name].append(i)\n",
    "        stat_data[\"first_names\"] = first_names\n",
    "        stat_data[\"last_names\"] = last_names\n",
    "    with open(file, 'w', encoding=\"utf8\") as json_data:\n",
    "        json.dump(stat_data, json_data)"
   ]
  },
  {
   "cell_type": "code",
   "execution_count": 24,
   "metadata": {
    "collapsed": false
   },
   "outputs": [
    {
     "name": "stdout",
     "output_type": "stream",
     "text": [
      "3820\n",
      "3812\n"
     ]
    }
   ],
   "source": [
    "stats = [\"apps\", \"minsPlayed\", \"keyPassPerGame\", \"dribbleWonPerGame\"]\n",
    "\n",
    "hits = 0\n",
    "misses = 0\n",
    "\n",
    "for player in data[\"elements\"]:\n",
    "    for year in years:\n",
    "        if year in player[\"history\"][\"history_past\"]:\n",
    "            file = \"Data/Advanced_Stats/whoscored\" + \"_\" + (year[:4] + \"+\" + year[5:] + \".json\")\n",
    "            with open(file, 'r') as stat_file:\n",
    "                stat_data = json.load(stat_file)  \n",
    "            for stat in stats:                 \n",
    "                ##Petr crouch\n",
    "                ##\"content[0]\":\"owner\":\"altIds\": {\"opta\": \"p3773\"\n",
    "                #data[elements][335][code]\n",
    "                by_first = stat_data[\"first_names\"].get(player[\"first_name\"])\n",
    "                by_last = stat_data[\"last_names\"].get(player[\"second_name\"])\n",
    "                if by_first is not None and by_last is not None:\n",
    "                    intersection = list(set(by_first).intersection(by_last))\n",
    "                    if (len(intersection)>0) :\n",
    "                        hits += 1\n",
    "                        index = intersection[0]\n",
    "                        player[\"history\"][\"history_past\"][year][stat] = stat_data[\"playerTableStats\"][index][stat]\n",
    "                        if (len(intersection)>1):\n",
    "                            print(\"OMG\\nOMG\\nOMG\\nOMG\\nOMG\\n\")\n",
    "                else: misses+=1\n",
    "print(hits)\n",
    "print(misses)"
   ]
  },
  {
   "cell_type": "code",
   "execution_count": 25,
   "metadata": {
    "collapsed": false
   },
   "outputs": [],
   "source": [
    "hits = 0\n",
    "misses = 0\n",
    "for player in data[\"elements\"]:\n",
    "    for year in player[\"history\"][\"history_past\"]:\n",
    "        if player[\"history\"][\"history_past\"][year].get(\"apps\"):\n",
    "            if player[\"history\"][\"history_past\"][year].get(\"dribbleWonPerGame\"):\n",
    "                hits+=1\n",
    "                player[\"history\"][\"history_past\"][year][\"successful_dribbles\"] = player[\"history\"][\"history_past\"][year][\"apps\"] * player[\"history\"][\"history_past\"][year][\"dribbleWonPerGame\"]\n",
    "            if player[\"history\"][\"history_past\"][year].get(\"keyPassPerGame\"):\n",
    "                player[\"history\"][\"history_past\"][year][\"key_passes\"] = player[\"history\"][\"history_past\"][year][\"apps\"] * player[\"history\"][\"history_past\"][year][\"keyPassPerGame\"]\n",
    "        else: misses+=1"
   ]
  },
  {
   "cell_type": "code",
   "execution_count": 27,
   "metadata": {
    "collapsed": true
   },
   "outputs": [],
   "source": [
    "for player in data[\"elements\"]: \n",
    "    player[\"history\"] = player[\"history\"][\"history_past\"]"
   ]
  },
  {
   "cell_type": "code",
   "execution_count": 28,
   "metadata": {
    "collapsed": false
   },
   "outputs": [],
   "source": [
    "with open('Data/advanced_fpl_cleaned_data.json', 'w') as json_data:\n",
    "    json.dump(data, json_data)"
   ]
  },
  {
   "cell_type": "code",
   "execution_count": null,
   "metadata": {
    "collapsed": true
   },
   "outputs": [],
   "source": []
  }
 ],
 "metadata": {
  "kernelspec": {
   "display_name": "Python 3",
   "language": "python",
   "name": "python3"
  },
  "language_info": {
   "codemirror_mode": {
    "name": "ipython",
    "version": 3
   },
   "file_extension": ".py",
   "mimetype": "text/x-python",
   "name": "python",
   "nbconvert_exporter": "python",
   "pygments_lexer": "ipython3",
   "version": "3.5.1"
  }
 },
 "nbformat": 4,
 "nbformat_minor": 0
}
