{
 "cells": [
  {
   "cell_type": "code",
   "execution_count": 1,
   "metadata": {
    "collapsed": true
   },
   "outputs": [],
   "source": [
    "import json\n",
    "\n",
    "with open('Data/advanced_fpl_cleaned_data.json', 'r') as json_data:\n",
    "    data = json.load(json_data)"
   ]
  },
  {
   "cell_type": "code",
   "execution_count": 19,
   "metadata": {
    "collapsed": false
   },
   "outputs": [],
   "source": [
    "#Index is (4-player[\"element_type\"]) Forward, midfield, defender, goalie\n",
    "togga_scoring = {\n",
    "\"goals_scored\": [9,9,10,10],\n",
    "\"assists\": [6,6,8,9],\n",
    "\"total_through_ball\": [2,2,2,6],\n",
    "\"ontarget_scoring_att\": [2,2,2,2],\n",
    "\"total_cross\": [1,1,1,1],\n",
    "\"successful_dribbles\": [1,1,1,1],\n",
    "\"dispossessed\": [-0.5,-0.5,-0.5,-0.5],\n",
    "\"own_goals\": [-9,-9,-9,-9],\n",
    "\"clean_sheets\": [0,1,6,8],\n",
    "\"saves\": [0,0,0,2],\n",
    "\"interception\": [1,1,1,1],\n",
    "\"tackles\": [1,1,1,1],\n",
    "\"goals_conceded\": [0,0,-2,-2],\n",
    "\"penalties_saved\": [0,0,0,8],\n",
    "\"yellow_cards\": [-3,-3,-3,-3],\n",
    "\"red_cards\": [-7,-7,-7,-7],\n",
    "\"aerials won\": [0.5,0.5,1,1],\n",
    "\"total_clearance\": [0,0,0.25,0.25]}"
   ]
  },
  {
   "cell_type": "code",
   "execution_count": 20,
   "metadata": {
    "collapsed": false
   },
   "outputs": [],
   "source": [
    "for player in data[\"elements\"]:\n",
    "    index = 4-player[\"element_type\"]\n",
    "    for season in player[\"history\"]:\n",
    "        score = 0\n",
    "        for stat in togga_scoring:\n",
    "            if player[\"history\"][season].get(stat):\n",
    "                score += togga_scoring[stat][index]*player[\"history\"][season][stat]\n",
    "        player[\"history\"][season][\"togga_score\"] = score"
   ]
  },
  {
   "cell_type": "code",
   "execution_count": 21,
   "metadata": {
    "collapsed": false
   },
   "outputs": [],
   "source": [
    "with open('Data/example_player.json', 'w') as json_data:\n",
    "    json.dump(data[\"elements\"][81], json_data)"
   ]
  },
  {
   "cell_type": "code",
   "execution_count": 34,
   "metadata": {
    "collapsed": true
   },
   "outputs": [],
   "source": [
    "with open('Data/advanced_fpl_cleaned_data.json', 'w') as json_data:\n",
    "    json.dump(data, json_data)"
   ]
  },
  {
   "cell_type": "code",
   "execution_count": 38,
   "metadata": {
    "collapsed": false
   },
   "outputs": [],
   "source": [
    "one_year = range(683)\n",
    "two_year = []\n",
    "three_year = []\n",
    "four_year = []\n",
    "five_year = []\n",
    "for i, player in enumerate(data[\"elements\"]):\n",
    "    if(len(player[\"history\"])>1) and player[\"history\"].get(\"2015/16\"):\n",
    "        two_year.append(i)\n",
    "        if(len(player[\"history\"])>2) and player[\"history\"].get(\"2014/15\"):\n",
    "            three_year.append(i)\n",
    "            if(len(player[\"history\"])>3) and player[\"history\"].get(\"2013/14\"):\n",
    "                four_year.append(i)\n",
    "                if(len(player[\"history\"])>4) and player[\"history\"].get(\"2012/13\"):\n",
    "                    five_year.append(i)"
   ]
  },
  {
   "cell_type": "code",
   "execution_count": 34,
   "metadata": {
    "collapsed": false
   },
   "outputs": [
    {
     "name": "stdout",
     "output_type": "stream",
     "text": [
      "[1, 2, 3, 6, 7, 8, 9, 10, 12, 14, 15, 16, 17, 18, 24, 25, 28, 35, 45, 73, 74, 75, 76, 77, 81, 83, 88, 91, 97, 102, 105, 109, 119, 120, 121, 122, 124, 125, 126, 127, 129, 132, 133, 134, 135, 136, 137, 139, 141, 142, 143, 172, 176, 187, 192, 193, 199, 200, 201, 202, 204, 207, 212, 213, 217, 219, 220, 221, 222, 223, 226, 227, 228, 229, 230, 238, 241, 243, 244, 246, 249, 255, 256, 258, 259, 260, 263, 265, 268, 281, 294, 295, 296, 297, 304, 305, 310, 312, 314, 317, 318, 319, 322, 324, 326, 327, 328, 329, 335, 338, 340, 341, 342, 347, 348, 349, 353, 354, 355, 357, 358, 359, 360, 366, 367, 368, 369, 371, 375, 379, 380, 382, 383, 384, 385, 390, 396, 402, 405, 428, 429, 430, 431, 432, 435, 437, 438, 439, 440, 441, 446, 451, 452, 457, 467, 489, 490, 532, 555, 571, 574, 579, 583, 634, 640, 681]\n"
     ]
    }
   ],
   "source": [
    "print(five_year)"
   ]
  },
  {
   "cell_type": "code",
   "execution_count": 5,
   "metadata": {
    "collapsed": true
   },
   "outputs": [],
   "source": [
    "for player in data[\"elements\"]:\n",
    "    player[\"name\"] = player[\"first_name\"] + \" \" + player[\"second_name\"]"
   ]
  },
  {
   "cell_type": "code",
   "execution_count": 39,
   "metadata": {
    "collapsed": false
   },
   "outputs": [],
   "source": [
    "point_ranking_16_17 = []\n",
    "point_ranking_15_16 = []\n",
    "point_ranking_14_15 = []\n",
    "point_ranking_13_14 = []\n",
    "point_ranking_12_13 = []\n",
    "for i, player in enumerate(data[\"elements\"]):\n",
    "    try:\n",
    "        if i in one_year:\n",
    "            point_ranking_16_17.append((player[\"name\"], player[\"history\"][\"2016/17\"][\"togga_score\"]))\n",
    "        if i in two_year:\n",
    "            point_ranking_15_16.append((player[\"name\"], player[\"history\"][\"2015/16\"][\"togga_score\"]))\n",
    "        if i in three_year:\n",
    "            point_ranking_14_15.append((player[\"name\"], player[\"history\"][\"2014/15\"][\"togga_score\"]))\n",
    "        if i in four_year:\n",
    "            point_ranking_13_14.append((player[\"name\"], player[\"history\"][\"2013/14\"][\"togga_score\"]))\n",
    "        if i in five_year:\n",
    "            point_ranking_12_13.append((player[\"name\"], player[\"history\"][\"2012/13\"][\"togga_score\"]))\n",
    "    except:\n",
    "        print(i)\n"
   ]
  },
  {
   "cell_type": "code",
   "execution_count": 51,
   "metadata": {
    "collapsed": false
   },
   "outputs": [],
   "source": [
    "#print(sorted(point_ranking_16_17, key=lambda tup: tup[1], reverse=True))\n",
    "#print(sorted(point_ranking_15_16, key=lambda tup: tup[1], reverse=True))\n",
    "#print(sorted(point_ranking_14_15, key=lambda tup: tup[1], reverse=True))\n",
    "#print(sorted(point_ranking_13_14, key=lambda tup: tup[1], reverse=True))\n",
    "#print(sorted(point_ranking_12_13, key=lambda tup: tup[1], reverse=True))"
   ]
  },
  {
   "cell_type": "code",
   "execution_count": null,
   "metadata": {
    "collapsed": true
   },
   "outputs": [],
   "source": []
  }
 ],
 "metadata": {
  "kernelspec": {
   "display_name": "Python 3",
   "language": "python",
   "name": "python3"
  },
  "language_info": {
   "codemirror_mode": {
    "name": "ipython",
    "version": 3
   },
   "file_extension": ".py",
   "mimetype": "text/x-python",
   "name": "python",
   "nbconvert_exporter": "python",
   "pygments_lexer": "ipython3",
   "version": "3.5.1"
  }
 },
 "nbformat": 4,
 "nbformat_minor": 0
}
