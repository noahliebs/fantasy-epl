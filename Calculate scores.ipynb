{
 "cells": [
  {
   "cell_type": "code",
   "execution_count": 191,
   "metadata": {
    "collapsed": true
   },
   "outputs": [],
   "source": [
    "import json\n",
    "\n",
    "with open('Data/advanced_fpl_cleaned_data.json', 'r') as json_data:\n",
    "    data = json.load(json_data)"
   ]
  },
  {
   "cell_type": "code",
   "execution_count": 195,
   "metadata": {
    "collapsed": false
   },
   "outputs": [],
   "source": [
    "#Index is (4-player[\"element_type\"]) Forward, midfield, defender, goalie\n",
    "togga_scoring = {\n",
    "\"goals_scored\": [9,9,10,10],\n",
    "\"assists\": [6,6,8,9],\n",
    "\"keyPass_total\": [2,2,2,6],\n",
    "\"ontarget_scoring_att\": [2,2,2,2],\n",
    "\"accurateCrosses_total\": [1,1,1,1],\n",
    "\"successful_dribbles\": [1,1,1,1],\n",
    "\"dispossessed\": [-0.5,-0.5,-0.5,-0.5],\n",
    "\"own_goals\": [-9,-9,-9,-9],\n",
    "\"clean_sheets\": [0,1,6,8],\n",
    "\"saves\": [0,0,0,2],\n",
    "\"interception_total\": [1,1,1,1],\n",
    "\"tackle_total\": [1,1,1,1],\n",
    "\"goals_conceded\": [0,0,-2,-2],\n",
    "\"penalties_saved\": [0,0,0,8],\n",
    "\"yellow_cards\": [-3,-3,-3,-3],\n",
    "\"red_cards\": [-7,-7,-7,-7],\n",
    "\"aerialWonPerGame_total\": [0.5,0.5,1,1],\n",
    "\"interception_total\": [0,0,0.25,0.25]}"
   ]
  },
  {
   "cell_type": "code",
   "execution_count": 196,
   "metadata": {
    "collapsed": false
   },
   "outputs": [],
   "source": [
    "by_position = {1:[],2:[],3:[],4:[]}\n",
    "for player in data[\"elements\"]:\n",
    "    index = 4-player[\"element_type\"]\n",
    "    for season in player[\"history\"]:\n",
    "        score = 0\n",
    "        for stat in togga_scoring:\n",
    "            if player[\"history\"][season].get(stat):\n",
    "                score += togga_scoring[stat][index]*player[\"history\"][season][stat]\n",
    "                player[\"history\"][season][stat + \"_score\"] = togga_scoring[stat][index]*player[\"history\"][season][stat]\n",
    "            else:\n",
    "                player[\"history\"][season].update({stat:-1})\n",
    "        player[\"history\"][season][\"togga_score\"] = score\n",
    "    # Set the scores to 0 if they have no history\n",
    "    if not (player[\"history\"].get(\"2015/16\")):\n",
    "        player['history'].update({'2015/16': {\"togga_score\":0}})\n",
    "    if not (player[\"history\"].get(\"2014/15\")):\n",
    "        player['history'].update({'2014/15': {\"togga_score\":0}})\n",
    "    if not (player[\"history\"].get(\"2013/14\")):\n",
    "        player['history'].update({'2013/14': {\"togga_score\":0}})\n",
    "    if not (player[\"history\"].get(\"2012/13\")):\n",
    "        player['history'].update({'2012/13': {\"togga_score\":0}})\n",
    "    by_position[player[\"element_type\"]].append(player)"
   ]
  },
  {
   "cell_type": "code",
   "execution_count": 197,
   "metadata": {
    "collapsed": false
   },
   "outputs": [],
   "source": [
    "with open('Data/example_player.json', 'w') as json_data:\n",
    "    json.dump(data[\"elements\"][81], json_data)"
   ]
  },
  {
   "cell_type": "code",
   "execution_count": 102,
   "metadata": {
    "collapsed": true
   },
   "outputs": [],
   "source": [
    "with open('Data/advanced_fpl_cleaned_data.json', 'w') as json_data:\n",
    "    json.dump(data, json_data)"
   ]
  },
  {
   "cell_type": "code",
   "execution_count": 21,
   "metadata": {
    "collapsed": true
   },
   "outputs": [],
   "source": [
    "with open('Data/positional.json', 'w') as json_data:\n",
    "    json.dump(by_position, json_data)"
   ]
  },
  {
   "cell_type": "code",
   "execution_count": 187,
   "metadata": {
    "collapsed": false
   },
   "outputs": [],
   "source": [
    "bpcopy = by_position.copy()\n",
    "for position in by_position:\n",
    "    for i, player in enumerate(by_position[position]):\n",
    "        for year in ['2016/17', '2015/16', '2014/15', '2013/14', '2012/13']:\n",
    "            new_stats={}\n",
    "            for stat in player['history'][year]:\n",
    "                if stat in togga_scoring or stat in ['togga_score', 'apps', 'start_cost', 'end_cost', \n",
    "                                                    'total_pass', 'minutes']:\n",
    "                    new_stats.update({stat: player['history'][year][stat]})  \n",
    "            bpcopy[position][i]['history'].update({year:new_stats.copy()})\n",
    "                \n",
    "for year in ['2016/17', '2015/16', '2014/15', '2013/14', '2012/13']:\n",
    "    g = []\n",
    "    d = []\n",
    "    m = []\n",
    "    f = []\n",
    "    for i, player in enumerate(bpcopy[1]):\n",
    "        if player['history'][year]['togga_score'] != 0:\n",
    "            copy = player['history'][year].copy()\n",
    "            copy['name'] = player[\"name\"]\n",
    "            g.append(copy)\n",
    "    for i, player in enumerate(bpcopy[2]):\n",
    "        if player['history'][year]['togga_score'] != 0:\n",
    "            copy = player['history'][year].copy()\n",
    "            copy['name'] = player[\"name\"]\n",
    "            d.append(copy)\n",
    "    for i, player in enumerate(bpcopy[3]):\n",
    "        if player['history'][year]['togga_score'] != 0:\n",
    "            copy = player['history'][year].copy()\n",
    "            copy['name'] = player[\"name\"]\n",
    "            m.append(copy)\n",
    "    for i, player in enumerate(bpcopy[4]):\n",
    "        if player['history'][year]['togga_score'] != 0:\n",
    "            copy = player['history'][year].copy()\n",
    "            copy['name'] = player[\"name\"]\n",
    "            f.append(copy)\n",
    "    sorted_goalies = sorted(g, key=lambda k: k['togga_score'], reverse=True)\n",
    "    with open('Data/Sorted_Positions/sorted_goalies_%s+%s.json' % (year[:4], year[-2:]), 'w') as json_data:\n",
    "        json.dump(sorted_goalies, json_data)\n",
    "    sorted_defense = sorted(d, key=lambda k: k['togga_score'], reverse=True)\n",
    "    with open('Data/Sorted_Positions/sorted_defense_%s+%s.json' % (year[:4], year[-2:]), 'w') as json_data:\n",
    "        json.dump(sorted_defense, json_data)\n",
    "    sorted_midfield = sorted(m, key=lambda k: k['togga_score'], reverse=True)\n",
    "    with open('Data/Sorted_Positions/sorted_midfield_%s+%s.json' % (year[:4], year[-2:]), 'w') as json_data:\n",
    "        json.dump(sorted_midfield, json_data)\n",
    "    sorted_forwards = sorted(f, key=lambda k: k['togga_score'], reverse=True)\n",
    "    with open('Data/Sorted_Positions/sorted_forwards_%s+%s.json' % (year[:4], year[-2:]), 'w') as json_data:\n",
    "        json.dump(sorted_forwards, json_data)"
   ]
  },
  {
   "cell_type": "code",
   "execution_count": 97,
   "metadata": {
    "collapsed": false
   },
   "outputs": [
    {
     "name": "stdout",
     "output_type": "stream",
     "text": [
      "name: Simon Mignolet\tscore:312.250000\n",
      "name: Petr Cech\tscore:302.750000\n",
      "name: Asmir Begovic\tscore:258.000000\n",
      "name: Joe Hart\tscore:251.250000\n",
      "name: David de Gea\tscore:214.000000\n",
      "name: Ben Foster\tscore:195.000000\n",
      "name: Michel Vorm\tscore:184.000000\n",
      "name: Bradley Guzan\tscore:174.000000\n",
      "name: Hugo Lloris\tscore:156.500000\n",
      "name: Adam Federici\tscore:124.000000\n"
     ]
    }
   ],
   "source": [
    "for i in range(10):\n",
    "    name=sorted_goalies[i]['name']\n",
    "    score=sorted_goalies[i]['history']['2012/13']['togga_score']\n",
    "    print(\"name: %s\\tscore:%f\" % (name, score))"
   ]
  },
  {
   "cell_type": "code",
   "execution_count": 69,
   "metadata": {
    "collapsed": false
   },
   "outputs": [
    {
     "name": "stdout",
     "output_type": "stream",
     "text": [
      "name: Marcos Alonso\tscore:470.000000\n",
      "name: Leighton Baines\tscore:350.250000\n",
      "name: Kyle Walker\tscore:344.500000\n",
      "name: José Holebas\tscore:319.500000\n",
      "name: Christian Fuchs\tscore:316.750000\n",
      "name: Chris Brunt\tscore:311.500000\n",
      "name: Ryan Bertrand\tscore:307.000000\n",
      "name: César Azpilicueta\tscore:305.750000\n",
      "name: Gary Cahill\tscore:292.750000\n",
      "name: Matthew Lowton\tscore:290.500000\n"
     ]
    }
   ],
   "source": [
    "for i in range(10):\n",
    "    name=sorted_defense[i]['name']\n",
    "    score=sorted_defense[i]['history']['2016/17']['togga_score']\n",
    "    print(\"name: %s\\tscore:%f\" % (name, score))"
   ]
  },
  {
   "cell_type": "code",
   "execution_count": 70,
   "metadata": {
    "collapsed": false
   },
   "outputs": [
    {
     "name": "stdout",
     "output_type": "stream",
     "text": [
      "name: Christian Eriksen\tscore:779.500000\n",
      "name: Gylfi Sigurdsson\tscore:739.000000\n",
      "name: Alexis Sánchez\tscore:583.000000\n",
      "name: Mesut Özil\tscore:582.500000\n",
      "name: James Milner\tscore:581.500000\n",
      "name: Eden Hazard\tscore:570.500000\n",
      "name: Philippe Coutinho\tscore:543.500000\n",
      "name: Andros Townsend\tscore:500.500000\n",
      "name: Ross Barkley\tscore:483.500000\n",
      "name: Kevin De Bruyne\tscore:471.500000\n"
     ]
    }
   ],
   "source": [
    "for i in range(10):\n",
    "    name=sorted_midfield[i]['name']\n",
    "    score=sorted_midfield[i]['history']['2016/17']['togga_score']\n",
    "    print(\"name: %s\\tscore:%f\" % (name, score))"
   ]
  },
  {
   "cell_type": "code",
   "execution_count": 71,
   "metadata": {
    "collapsed": false
   },
   "outputs": [
    {
     "name": "stdout",
     "output_type": "stream",
     "text": [
      "name: Romelu Lukaku\tscore:543.500000\n",
      "name: Harry Kane\tscore:529.000000\n",
      "name: Christian Benteke\tscore:419.000000\n",
      "name: Sergio Agüero\tscore:408.000000\n",
      "name: Zlatan Ibrahimovic\tscore:402.500000\n",
      "name: Jamie Vardy\tscore:315.500000\n",
      "name: Fernando Llorente\tscore:310.500000\n",
      "name: Troy Deeney\tscore:293.000000\n",
      "name: Sam Vokes\tscore:288.000000\n",
      "name: Álvaro Negredo\tscore:284.000000\n"
     ]
    }
   ],
   "source": [
    "for i in range(10):\n",
    "    name=sorted_forwards[i]['name']\n",
    "    score=sorted_forwards[i]['history']['2016/17']['togga_score']\n",
    "    print(\"name: %s\\tscore:%f\" % (name, score))"
   ]
  },
  {
   "cell_type": "code",
   "execution_count": 90,
   "metadata": {
    "collapsed": false
   },
   "outputs": [],
   "source": [
    "2015+a = sorted(by_position[4], key=lambda k: k['history']['2015/16']['togga_score'], reverse=True)"
   ]
  },
  {
   "cell_type": "code",
   "execution_count": 80,
   "metadata": {
    "collapsed": false
   },
   "outputs": [
    {
     "ename": "TypeError",
     "evalue": "unhashable type: 'list'",
     "output_type": "error",
     "traceback": [
      "\u001b[1;31m---------------------------------------------------------------------------\u001b[0m",
      "\u001b[1;31mTypeError\u001b[0m                                 Traceback (most recent call last)",
      "\u001b[1;32m<ipython-input-80-1329d6452ba0>\u001b[0m in \u001b[0;36m<module>\u001b[1;34m()\u001b[0m\n\u001b[1;32m----> 1\u001b[1;33m \u001b[0mby_position\u001b[0m\u001b[1;33m[\u001b[0m\u001b[1;36m4\u001b[0m\u001b[1;33m]\u001b[0m\u001b[1;33m[\u001b[0m\u001b[1;36m0\u001b[0m\u001b[1;33m]\u001b[0m\u001b[1;33m[\u001b[0m\u001b[1;34m'history'\u001b[0m\u001b[1;33m]\u001b[0m\u001b[1;33m.\u001b[0m\u001b[0mget\u001b[0m\u001b[1;33m(\u001b[0m\u001b[1;33m[\u001b[0m\u001b[1;34m'2016/17'\u001b[0m\u001b[1;33m]\u001b[0m\u001b[1;33m)\u001b[0m\u001b[1;33m\u001b[0m\u001b[0m\n\u001b[0m",
      "\u001b[1;31mTypeError\u001b[0m: unhashable type: 'list'"
     ]
    }
   ],
   "source": []
  },
  {
   "cell_type": "code",
   "execution_count": null,
   "metadata": {
    "collapsed": true
   },
   "outputs": [],
   "source": []
  },
  {
   "cell_type": "code",
   "execution_count": 31,
   "metadata": {
    "collapsed": false
   },
   "outputs": [],
   "source": [
    "by_year = {1:[],2:[],3:[],4:[],5:[]}\n",
    "for i, player in enumerate(data[\"elements\"]):\n",
    "    by_year[1].append(player)\n",
    "    if(len(player[\"history\"])>1) and player[\"history\"].get(\"2015/16\"):\n",
    "        by_year[2].append(player)\n",
    "        if(len(player[\"history\"])>2) and player[\"history\"].get(\"2014/15\"):\n",
    "            by_year[3].append(player)\n",
    "            if(len(player[\"history\"])>3) and player[\"history\"].get(\"2013/14\"):\n",
    "                by_year[4].append(player)\n",
    "                if(len(player[\"history\"])>4) and player[\"history\"].get(\"2012/13\"):\n",
    "                    by_year[5].append(player)"
   ]
  },
  {
   "cell_type": "code",
   "execution_count": 27,
   "metadata": {
    "collapsed": false
   },
   "outputs": [],
   "source": [
    "with open('Data/by_experience.json', 'w') as json_data:\n",
    "    json.dump(by_year, json_data)"
   ]
  },
  {
   "cell_type": "code",
   "execution_count": 62,
   "metadata": {
    "collapsed": false
   },
   "outputs": [],
   "source": [
    "point_ranking_16_17 = []\n",
    "point_ranking_15_16 = []\n",
    "point_ranking_14_15 = []\n",
    "point_ranking_13_14 = []\n",
    "point_ranking_12_13 = []\n",
    "for i, player in enumerate(data[\"elements\"]):\n",
    "    try:\n",
    "        if player in by_year[1]:\n",
    "            point_ranking_16_17.append((player[\"name\"], player[\"history\"][\"2016/17\"][\"togga_score\"]))\n",
    "        if player in by_year[2]:\n",
    "            point_ranking_15_16.append((player[\"name\"], player[\"history\"][\"2015/16\"][\"togga_score\"]))\n",
    "        if player in by_year[3]:\n",
    "            point_ranking_14_15.append((player[\"name\"], player[\"history\"][\"2014/15\"][\"togga_score\"]))\n",
    "        if player in by_year[4]:\n",
    "            point_ranking_13_14.append((player[\"name\"], player[\"history\"][\"2013/14\"][\"togga_score\"]))\n",
    "        if player in by_year[5]:\n",
    "            point_ranking_12_13.append((player[\"name\"], player[\"history\"][\"2012/13\"][\"togga_score\"]))\n",
    "    except:\n",
    "        print(i)\n"
   ]
  },
  {
   "cell_type": "code",
   "execution_count": 46,
   "metadata": {
    "collapsed": false
   },
   "outputs": [],
   "source": [
    "#print(sorted(point_ranking_16_17, key=lambda tup: tup[1], reverse=True))\n",
    "#print(sorted(point_ranking_15_16, key=lambda tup: tup[1], reverse=True))\n",
    "#print(sorted(point_ranking_14_15, key=lambda tup: tup[1], reverse=True))\n",
    "#print(sorted(point_ranking_13_14, key=lambda tup: tup[1], reverse=True))\n",
    "#print(sorted(point_ranking_12_13, key=lambda tup: tup[1], reverse=True))"
   ]
  }
 ],
 "metadata": {
  "kernelspec": {
   "display_name": "Python 3",
   "language": "python",
   "name": "python3"
  },
  "language_info": {
   "codemirror_mode": {
    "name": "ipython",
    "version": 3
   },
   "file_extension": ".py",
   "mimetype": "text/x-python",
   "name": "python",
   "nbconvert_exporter": "python",
   "pygments_lexer": "ipython3",
   "version": "3.5.1"
  }
 },
 "nbformat": 4,
 "nbformat_minor": 0
}
